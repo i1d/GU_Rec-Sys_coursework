{
 "cells": [
  {
   "cell_type": "markdown",
   "metadata": {
    "id": "Bqs9Sw_YC4Jt"
   },
   "source": [
    "### Основное\n",
    "\n",
    "Дедлайн - 13 ноября 23:59\n",
    "Целевая метрика precision@5\n",
    "Бейзлайн решения - MainRecommender\n",
    "Сдаем ссылку на github с решением. На github должен быть файл recommendations.csv (user_id | [rec_1, rec_2, ...] с рекомендациями. rec_i - реальные id item-ов (из retail_train.csv)\n",
    "Hints:\n",
    "\n",
    "#### Сначала просто попробуйте разные параметры MainRecommender:\n",
    "\n",
    "N в топ-N товарах при формировании user-item матирцы (сейчас топ-5000)\n",
    "Различные веса в user-item матрице (0/1, кол-во покупок, log(кол-во покупок + 1), сумма покупки, ...)\n",
    "Разные взвешивания матрицы (TF-IDF, BM25 - у него есть параметры)\n",
    "Разные смешивания рекомендаций (обратите внимание на бейзлайн - прошлые покупки юзера)\n",
    "Сделайте MVP - минимально рабочий продукт - (пусть даже top-popular), а потом его улучшайте\n",
    "\n",
    "Если вы делаете двухуровневую модель - следите за валидацией"
   ]
  },
  {
   "cell_type": "code",
   "execution_count": 1,
   "metadata": {
    "id": "5Aur99NsC4Jm"
   },
   "outputs": [],
   "source": [
    "import pandas as pd\n",
    "import numpy as np\n",
    "import matplotlib.pyplot as plt\n",
    "%matplotlib inline\n",
    "\n",
    "# Для работы с матрицами\n",
    "from scipy.sparse import csr_matrix\n",
    "\n",
    "# Матричная факторизация\n",
    "from implicit import als\n",
    "\n",
    "# Модель второго уровня\n",
    "from lightgbm import LGBMClassifier\n",
    "\n",
    "import os, sys\n",
    "module_path = os.path.abspath(os.path.join(os.pardir))\n",
    "if module_path not in sys.path:\n",
    "    sys.path.append(module_path)\n",
    "\n",
    "# Написанные нами функции\n",
    "from src.metrics import precision_at_k, recall_at_k\n",
    "from src.utils import prefilter_items\n",
    "from src.recommenders import MainRecommender"
   ]
  },
  {
   "cell_type": "code",
   "execution_count": 2,
   "metadata": {
    "colab": {
     "base_uri": "https://localhost:8080/",
     "height": 442
    },
    "id": "vso_erSdC4Jo",
    "outputId": "81cbc675-678b-4650-d076-de2e5e1eb4ad"
   },
   "outputs": [
    {
     "data": {
      "text/html": [
       "<div>\n",
       "<style scoped>\n",
       "    .dataframe tbody tr th:only-of-type {\n",
       "        vertical-align: middle;\n",
       "    }\n",
       "\n",
       "    .dataframe tbody tr th {\n",
       "        vertical-align: top;\n",
       "    }\n",
       "\n",
       "    .dataframe thead th {\n",
       "        text-align: right;\n",
       "    }\n",
       "</style>\n",
       "<table border=\"1\" class=\"dataframe\">\n",
       "  <thead>\n",
       "    <tr style=\"text-align: right;\">\n",
       "      <th></th>\n",
       "      <th>user_id</th>\n",
       "      <th>basket_id</th>\n",
       "      <th>day</th>\n",
       "      <th>item_id</th>\n",
       "      <th>quantity</th>\n",
       "      <th>sales_value</th>\n",
       "      <th>store_id</th>\n",
       "      <th>retail_disc</th>\n",
       "      <th>trans_time</th>\n",
       "      <th>week_no</th>\n",
       "      <th>coupon_disc</th>\n",
       "      <th>coupon_match_disc</th>\n",
       "    </tr>\n",
       "  </thead>\n",
       "  <tbody>\n",
       "    <tr>\n",
       "      <th>0</th>\n",
       "      <td>2375</td>\n",
       "      <td>26984851472</td>\n",
       "      <td>1</td>\n",
       "      <td>1004906</td>\n",
       "      <td>1</td>\n",
       "      <td>1.39</td>\n",
       "      <td>364</td>\n",
       "      <td>-0.6</td>\n",
       "      <td>1631</td>\n",
       "      <td>1</td>\n",
       "      <td>0.0</td>\n",
       "      <td>0.0</td>\n",
       "    </tr>\n",
       "    <tr>\n",
       "      <th>1</th>\n",
       "      <td>2375</td>\n",
       "      <td>26984851472</td>\n",
       "      <td>1</td>\n",
       "      <td>1033142</td>\n",
       "      <td>1</td>\n",
       "      <td>0.82</td>\n",
       "      <td>364</td>\n",
       "      <td>0.0</td>\n",
       "      <td>1631</td>\n",
       "      <td>1</td>\n",
       "      <td>0.0</td>\n",
       "      <td>0.0</td>\n",
       "    </tr>\n",
       "  </tbody>\n",
       "</table>\n",
       "</div>"
      ],
      "text/plain": [
       "   user_id    basket_id  day  item_id  quantity  sales_value  store_id  \\\n",
       "0     2375  26984851472    1  1004906         1         1.39       364   \n",
       "1     2375  26984851472    1  1033142         1         0.82       364   \n",
       "\n",
       "   retail_disc  trans_time  week_no  coupon_disc  coupon_match_disc  \n",
       "0         -0.6        1631        1          0.0                0.0  \n",
       "1          0.0        1631        1          0.0                0.0  "
      ]
     },
     "execution_count": 2,
     "metadata": {},
     "output_type": "execute_result"
    }
   ],
   "source": [
    "data = pd.read_csv('data/retail_train.csv')\n",
    "item_features = pd.read_csv('data/product.csv')\n",
    "user_features = pd.read_csv('data/hh_demographic.csv')\n",
    "\n",
    "# column processing\n",
    "item_features.columns = [col.lower() for col in item_features.columns]\n",
    "user_features.columns = [col.lower() for col in user_features.columns]\n",
    "\n",
    "item_features.rename(columns={'product_id': 'item_id'}, inplace=True)\n",
    "user_features.rename(columns={'household_key': 'user_id'}, inplace=True)\n",
    "\n",
    "\n",
    "# Важна схема обучения и валидации!\n",
    "# -- давние покупки -- | -- 6 недель -- | -- 3 недель -- \n",
    "# подобрать размер 2-ого датасета (6 недель) --> learning curve (зависимость метрики recall@k от размера датасета)\n",
    "val_lvl_1_size_weeks = 6\n",
    "val_lvl_2_size_weeks = 3\n",
    "\n",
    "data_train_lvl_1 = data[data['week_no'] < data['week_no'].max() - (val_lvl_1_size_weeks + val_lvl_2_size_weeks)]\n",
    "data_val_lvl_1 = data[(data['week_no'] >= data['week_no'].max() - (val_lvl_1_size_weeks + val_lvl_2_size_weeks)) &\n",
    "                      (data['week_no'] < data['week_no'].max() - (val_lvl_2_size_weeks))]\n",
    "\n",
    "data_train_lvl_2 = data_val_lvl_1.copy()  # Для наглядности. Далее мы добавим изменения, и они будут отличаться\n",
    "data_val_lvl_2 = data[data['week_no'] >= data['week_no'].max() - val_lvl_2_size_weeks]\n",
    "\n",
    "data_train_lvl_1.head(2)"
   ]
  },
  {
   "cell_type": "code",
   "execution_count": 3,
   "metadata": {
    "id": "zcnV3l4XC4Jp",
    "outputId": "d58f889c-0671-4bb9-b2b6-2dc2e8c24fce"
   },
   "outputs": [
    {
     "name": "stdout",
     "output_type": "stream",
     "text": [
      "Decreased # items from 83685 to 4001\n"
     ]
    }
   ],
   "source": [
    "n_items_before = data_train_lvl_1['item_id'].nunique()\n",
    "\n",
    "data_train_lvl_1 = prefilter_items(data_train_lvl_1, item_features=item_features, take_n_popular=4000) #5000\n",
    "\n",
    "n_items_after = data_train_lvl_1['item_id'].nunique()\n",
    "print('Decreased # items from {} to {}'.format(n_items_before, n_items_after))"
   ]
  },
  {
   "cell_type": "code",
   "execution_count": 4,
   "metadata": {
    "colab": {
     "referenced_widgets": [
      "729d4287bb794971802d9da5e141f10a",
      "32375ef613474af6a0fcadb9255eb835"
     ]
    },
    "id": "zgYXRQ0lC4Jq",
    "outputId": "d9ea41ae-3b4d-41b4-fc46-90868ebb9894"
   },
   "outputs": [
    {
     "name": "stderr",
     "output_type": "stream",
     "text": [
      "WARNING:root:Intel MKL BLAS detected. Its highly recommend to set the environment variable 'export MKL_NUM_THREADS=1' to disable its internal multithreading\n"
     ]
    },
    {
     "name": "stdout",
     "output_type": "stream",
     "text": [
      "Step 1 of 112. Fitting model for factor=25, l_reg=0.001, iterations=10:"
     ]
    },
    {
     "data": {
      "application/vnd.jupyter.widget-view+json": {
       "model_id": "07682a199d114e36938365326f0b4e00",
       "version_major": 2,
       "version_minor": 0
      },
      "text/plain": [
       "HBox(children=(HTML(value=''), FloatProgress(value=0.0, max=10.0), HTML(value='')))"
      ]
     },
     "metadata": {},
     "output_type": "display_data"
    },
    {
     "name": "stdout",
     "output_type": "stream",
     "text": [
      "\n",
      "Fit time: 1.43 sec.\n",
      "Get recommendation time: 18.08 sec.\n",
      "\n",
      "Step 2 of 112. Fitting model for factor=25, l_reg=0.001, iterations=15:"
     ]
    },
    {
     "data": {
      "application/vnd.jupyter.widget-view+json": {
       "model_id": "751dea54fd574de28bc09cef23d4d1c9",
       "version_major": 2,
       "version_minor": 0
      },
      "text/plain": [
       "HBox(children=(HTML(value=''), FloatProgress(value=0.0, max=15.0), HTML(value='')))"
      ]
     },
     "metadata": {},
     "output_type": "display_data"
    },
    {
     "name": "stdout",
     "output_type": "stream",
     "text": [
      "\n",
      "Fit time: 2.08 sec.\n",
      "Get recommendation time: 20.2 sec.\n",
      "\n",
      "Step 3 of 112. Fitting model for factor=25, l_reg=0.001, iterations=25:"
     ]
    },
    {
     "data": {
      "application/vnd.jupyter.widget-view+json": {
       "model_id": "d1d417075a3541bfba4206ef7970935a",
       "version_major": 2,
       "version_minor": 0
      },
      "text/plain": [
       "HBox(children=(HTML(value=''), FloatProgress(value=0.0, max=25.0), HTML(value='')))"
      ]
     },
     "metadata": {},
     "output_type": "display_data"
    },
    {
     "name": "stdout",
     "output_type": "stream",
     "text": [
      "\n",
      "Fit time: 3.44 sec.\n",
      "Get recommendation time: 18.18 sec.\n",
      "\n",
      "Step 4 of 112. Fitting model for factor=25, l_reg=0.001, iterations=35:"
     ]
    },
    {
     "data": {
      "application/vnd.jupyter.widget-view+json": {
       "model_id": "c5a9c409b8124922b111a1c05d59dd54",
       "version_major": 2,
       "version_minor": 0
      },
      "text/plain": [
       "HBox(children=(HTML(value=''), FloatProgress(value=0.0, max=35.0), HTML(value='')))"
      ]
     },
     "metadata": {},
     "output_type": "display_data"
    },
    {
     "name": "stdout",
     "output_type": "stream",
     "text": [
      "\n",
      "Fit time: 4.68 sec.\n",
      "Get recommendation time: 18.77 sec.\n",
      "\n",
      "Step 5 of 112. Fitting model for factor=25, l_reg=0.01, iterations=10:"
     ]
    },
    {
     "data": {
      "application/vnd.jupyter.widget-view+json": {
       "model_id": "939b32f801864b6992abeffc4e9058a9",
       "version_major": 2,
       "version_minor": 0
      },
      "text/plain": [
       "HBox(children=(HTML(value=''), FloatProgress(value=0.0, max=10.0), HTML(value='')))"
      ]
     },
     "metadata": {},
     "output_type": "display_data"
    },
    {
     "name": "stdout",
     "output_type": "stream",
     "text": [
      "\n",
      "Fit time: 1.31 sec.\n",
      "Get recommendation time: 17.83 sec.\n",
      "\n",
      "Step 6 of 112. Fitting model for factor=25, l_reg=0.01, iterations=15:"
     ]
    },
    {
     "data": {
      "application/vnd.jupyter.widget-view+json": {
       "model_id": "0b74d3bcd1b742f2a5557508123f610d",
       "version_major": 2,
       "version_minor": 0
      },
      "text/plain": [
       "HBox(children=(HTML(value=''), FloatProgress(value=0.0, max=15.0), HTML(value='')))"
      ]
     },
     "metadata": {},
     "output_type": "display_data"
    },
    {
     "name": "stdout",
     "output_type": "stream",
     "text": [
      "\n",
      "Fit time: 1.96 sec.\n",
      "Get recommendation time: 17.85 sec.\n",
      "\n",
      "Step 7 of 112. Fitting model for factor=25, l_reg=0.01, iterations=25:"
     ]
    },
    {
     "data": {
      "application/vnd.jupyter.widget-view+json": {
       "model_id": "dcac1daf15d246938dc85d607e6edefd",
       "version_major": 2,
       "version_minor": 0
      },
      "text/plain": [
       "HBox(children=(HTML(value=''), FloatProgress(value=0.0, max=25.0), HTML(value='')))"
      ]
     },
     "metadata": {},
     "output_type": "display_data"
    },
    {
     "name": "stdout",
     "output_type": "stream",
     "text": [
      "\n",
      "Fit time: 3.32 sec.\n",
      "Get recommendation time: 17.85 sec.\n",
      "\n",
      "Step 8 of 112. Fitting model for factor=25, l_reg=0.01, iterations=35:"
     ]
    },
    {
     "data": {
      "application/vnd.jupyter.widget-view+json": {
       "model_id": "6319b97591cc4c3c953fb61818ac2518",
       "version_major": 2,
       "version_minor": 0
      },
      "text/plain": [
       "HBox(children=(HTML(value=''), FloatProgress(value=0.0, max=35.0), HTML(value='')))"
      ]
     },
     "metadata": {},
     "output_type": "display_data"
    },
    {
     "name": "stdout",
     "output_type": "stream",
     "text": [
      "\n",
      "Fit time: 4.63 sec.\n",
      "Get recommendation time: 17.99 sec.\n",
      "\n",
      "Step 9 of 112. Fitting model for factor=25, l_reg=0.05, iterations=10:"
     ]
    },
    {
     "data": {
      "application/vnd.jupyter.widget-view+json": {
       "model_id": "a999fd260e8143aea44a71a3d0a98df5",
       "version_major": 2,
       "version_minor": 0
      },
      "text/plain": [
       "HBox(children=(HTML(value=''), FloatProgress(value=0.0, max=10.0), HTML(value='')))"
      ]
     },
     "metadata": {},
     "output_type": "display_data"
    },
    {
     "name": "stdout",
     "output_type": "stream",
     "text": [
      "\n",
      "Fit time: 1.35 sec.\n",
      "Get recommendation time: 17.89 sec.\n",
      "\n",
      "Step 10 of 112. Fitting model for factor=25, l_reg=0.05, iterations=15:"
     ]
    },
    {
     "data": {
      "application/vnd.jupyter.widget-view+json": {
       "model_id": "db331deb26704acda2a475996bab1b2a",
       "version_major": 2,
       "version_minor": 0
      },
      "text/plain": [
       "HBox(children=(HTML(value=''), FloatProgress(value=0.0, max=15.0), HTML(value='')))"
      ]
     },
     "metadata": {},
     "output_type": "display_data"
    },
    {
     "name": "stdout",
     "output_type": "stream",
     "text": [
      "\n",
      "Fit time: 1.96 sec.\n",
      "Get recommendation time: 17.99 sec.\n",
      "\n",
      "Step 11 of 112. Fitting model for factor=25, l_reg=0.05, iterations=25:"
     ]
    },
    {
     "data": {
      "application/vnd.jupyter.widget-view+json": {
       "model_id": "badc59aba6f14410bbdd600efff22cdb",
       "version_major": 2,
       "version_minor": 0
      },
      "text/plain": [
       "HBox(children=(HTML(value=''), FloatProgress(value=0.0, max=25.0), HTML(value='')))"
      ]
     },
     "metadata": {},
     "output_type": "display_data"
    },
    {
     "name": "stdout",
     "output_type": "stream",
     "text": [
      "\n",
      "Fit time: 3.51 sec.\n",
      "Get recommendation time: 18.21 sec.\n",
      "\n",
      "Step 12 of 112. Fitting model for factor=25, l_reg=0.05, iterations=35:"
     ]
    },
    {
     "data": {
      "application/vnd.jupyter.widget-view+json": {
       "model_id": "7fbbb792fd6e42d89d1e20e69c497a9f",
       "version_major": 2,
       "version_minor": 0
      },
      "text/plain": [
       "HBox(children=(HTML(value=''), FloatProgress(value=0.0, max=35.0), HTML(value='')))"
      ]
     },
     "metadata": {},
     "output_type": "display_data"
    },
    {
     "name": "stdout",
     "output_type": "stream",
     "text": [
      "\n",
      "Fit time: 4.63 sec.\n",
      "Get recommendation time: 17.85 sec.\n",
      "\n",
      "Step 13 of 112. Fitting model for factor=25, l_reg=0.1, iterations=10:"
     ]
    },
    {
     "data": {
      "application/vnd.jupyter.widget-view+json": {
       "model_id": "96a795e254a5403ebd71e3110bdc03dd",
       "version_major": 2,
       "version_minor": 0
      },
      "text/plain": [
       "HBox(children=(HTML(value=''), FloatProgress(value=0.0, max=10.0), HTML(value='')))"
      ]
     },
     "metadata": {},
     "output_type": "display_data"
    },
    {
     "name": "stdout",
     "output_type": "stream",
     "text": [
      "\n",
      "Fit time: 1.36 sec.\n",
      "Get recommendation time: 17.85 sec.\n",
      "\n",
      "Step 14 of 112. Fitting model for factor=25, l_reg=0.1, iterations=15:"
     ]
    },
    {
     "data": {
      "application/vnd.jupyter.widget-view+json": {
       "model_id": "f2bcb3281b26401dafcd91ad3c791a26",
       "version_major": 2,
       "version_minor": 0
      },
      "text/plain": [
       "HBox(children=(HTML(value=''), FloatProgress(value=0.0, max=15.0), HTML(value='')))"
      ]
     },
     "metadata": {},
     "output_type": "display_data"
    },
    {
     "name": "stdout",
     "output_type": "stream",
     "text": [
      "\n",
      "Fit time: 1.94 sec.\n",
      "Get recommendation time: 17.94 sec.\n",
      "\n",
      "Step 15 of 112. Fitting model for factor=25, l_reg=0.1, iterations=25:"
     ]
    },
    {
     "data": {
      "application/vnd.jupyter.widget-view+json": {
       "model_id": "33597b1b88b04b5cae67a8cd99a419a1",
       "version_major": 2,
       "version_minor": 0
      },
      "text/plain": [
       "HBox(children=(HTML(value=''), FloatProgress(value=0.0, max=25.0), HTML(value='')))"
      ]
     },
     "metadata": {},
     "output_type": "display_data"
    },
    {
     "name": "stdout",
     "output_type": "stream",
     "text": [
      "\n",
      "Fit time: 3.32 sec.\n",
      "Get recommendation time: 18.31 sec.\n",
      "\n",
      "Step 16 of 112. Fitting model for factor=25, l_reg=0.1, iterations=35:"
     ]
    },
    {
     "data": {
      "application/vnd.jupyter.widget-view+json": {
       "model_id": "020a329eb37d411a9969be3aed49375a",
       "version_major": 2,
       "version_minor": 0
      },
      "text/plain": [
       "HBox(children=(HTML(value=''), FloatProgress(value=0.0, max=35.0), HTML(value='')))"
      ]
     },
     "metadata": {},
     "output_type": "display_data"
    },
    {
     "name": "stdout",
     "output_type": "stream",
     "text": [
      "\n",
      "Fit time: 4.49 sec.\n",
      "Get recommendation time: 17.84 sec.\n",
      "\n",
      "Step 17 of 112. Fitting model for factor=50, l_reg=0.001, iterations=10:"
     ]
    },
    {
     "data": {
      "application/vnd.jupyter.widget-view+json": {
       "model_id": "5927384ead3a4f39a8917dc21d11b448",
       "version_major": 2,
       "version_minor": 0
      },
      "text/plain": [
       "HBox(children=(HTML(value=''), FloatProgress(value=0.0, max=10.0), HTML(value='')))"
      ]
     },
     "metadata": {},
     "output_type": "display_data"
    },
    {
     "name": "stdout",
     "output_type": "stream",
     "text": [
      "\n",
      "Fit time: 1.43 sec.\n",
      "Get recommendation time: 19.9 sec.\n",
      "\n",
      "Step 18 of 112. Fitting model for factor=50, l_reg=0.001, iterations=15:"
     ]
    },
    {
     "data": {
      "application/vnd.jupyter.widget-view+json": {
       "model_id": "ab87c0867bcf42e783ce564d34d924d3",
       "version_major": 2,
       "version_minor": 0
      },
      "text/plain": [
       "HBox(children=(HTML(value=''), FloatProgress(value=0.0, max=15.0), HTML(value='')))"
      ]
     },
     "metadata": {},
     "output_type": "display_data"
    },
    {
     "name": "stdout",
     "output_type": "stream",
     "text": [
      "\n",
      "Fit time: 2.15 sec.\n",
      "Get recommendation time: 20.19 sec.\n",
      "\n",
      "Step 19 of 112. Fitting model for factor=50, l_reg=0.001, iterations=25:"
     ]
    },
    {
     "data": {
      "application/vnd.jupyter.widget-view+json": {
       "model_id": "f5f015527e0d4ffeaaf505c58de1b1fa",
       "version_major": 2,
       "version_minor": 0
      },
      "text/plain": [
       "HBox(children=(HTML(value=''), FloatProgress(value=0.0, max=25.0), HTML(value='')))"
      ]
     },
     "metadata": {},
     "output_type": "display_data"
    },
    {
     "name": "stdout",
     "output_type": "stream",
     "text": [
      "\n",
      "Fit time: 3.51 sec.\n",
      "Get recommendation time: 19.96 sec.\n",
      "\n",
      "Step 20 of 112. Fitting model for factor=50, l_reg=0.001, iterations=35:"
     ]
    },
    {
     "data": {
      "application/vnd.jupyter.widget-view+json": {
       "model_id": "bb4df23cd53240c8aa3b7708397a9e19",
       "version_major": 2,
       "version_minor": 0
      },
      "text/plain": [
       "HBox(children=(HTML(value=''), FloatProgress(value=0.0, max=35.0), HTML(value='')))"
      ]
     },
     "metadata": {},
     "output_type": "display_data"
    },
    {
     "name": "stdout",
     "output_type": "stream",
     "text": [
      "\n",
      "Fit time: 5.02 sec.\n",
      "Get recommendation time: 19.92 sec.\n",
      "\n",
      "Step 21 of 112. Fitting model for factor=50, l_reg=0.01, iterations=10:"
     ]
    },
    {
     "data": {
      "application/vnd.jupyter.widget-view+json": {
       "model_id": "2f514213bcfc4b9faefc4c29a451713a",
       "version_major": 2,
       "version_minor": 0
      },
      "text/plain": [
       "HBox(children=(HTML(value=''), FloatProgress(value=0.0, max=10.0), HTML(value='')))"
      ]
     },
     "metadata": {},
     "output_type": "display_data"
    },
    {
     "name": "stdout",
     "output_type": "stream",
     "text": [
      "\n",
      "Fit time: 1.57 sec.\n",
      "Get recommendation time: 20.0 sec.\n",
      "\n",
      "Step 22 of 112. Fitting model for factor=50, l_reg=0.01, iterations=15:"
     ]
    },
    {
     "data": {
      "application/vnd.jupyter.widget-view+json": {
       "model_id": "24a8f41fcd1049058f0488b604641dff",
       "version_major": 2,
       "version_minor": 0
      },
      "text/plain": [
       "HBox(children=(HTML(value=''), FloatProgress(value=0.0, max=15.0), HTML(value='')))"
      ]
     },
     "metadata": {},
     "output_type": "display_data"
    },
    {
     "name": "stdout",
     "output_type": "stream",
     "text": [
      "\n",
      "Fit time: 2.12 sec.\n",
      "Get recommendation time: 20.35 sec.\n",
      "\n",
      "Step 23 of 112. Fitting model for factor=50, l_reg=0.01, iterations=25:"
     ]
    },
    {
     "data": {
      "application/vnd.jupyter.widget-view+json": {
       "model_id": "513925a5281a476dbfe77ccbcd6c9438",
       "version_major": 2,
       "version_minor": 0
      },
      "text/plain": [
       "HBox(children=(HTML(value=''), FloatProgress(value=0.0, max=25.0), HTML(value='')))"
      ]
     },
     "metadata": {},
     "output_type": "display_data"
    },
    {
     "name": "stdout",
     "output_type": "stream",
     "text": [
      "\n",
      "Fit time: 3.79 sec.\n",
      "Get recommendation time: 21.19 sec.\n",
      "\n",
      "Step 24 of 112. Fitting model for factor=50, l_reg=0.01, iterations=35:"
     ]
    },
    {
     "data": {
      "application/vnd.jupyter.widget-view+json": {
       "model_id": "3f949cc1186b4ab1be9d0c001a953f48",
       "version_major": 2,
       "version_minor": 0
      },
      "text/plain": [
       "HBox(children=(HTML(value=''), FloatProgress(value=0.0, max=35.0), HTML(value='')))"
      ]
     },
     "metadata": {},
     "output_type": "display_data"
    },
    {
     "name": "stdout",
     "output_type": "stream",
     "text": [
      "\n",
      "Fit time: 5.29 sec.\n",
      "Get recommendation time: 22.19 sec.\n",
      "\n",
      "Step 25 of 112. Fitting model for factor=50, l_reg=0.05, iterations=10:"
     ]
    },
    {
     "data": {
      "application/vnd.jupyter.widget-view+json": {
       "model_id": "eff44b81c90d4dd28683d50570bc66ca",
       "version_major": 2,
       "version_minor": 0
      },
      "text/plain": [
       "HBox(children=(HTML(value=''), FloatProgress(value=0.0, max=10.0), HTML(value='')))"
      ]
     },
     "metadata": {},
     "output_type": "display_data"
    },
    {
     "name": "stdout",
     "output_type": "stream",
     "text": [
      "\n",
      "Fit time: 1.51 sec.\n",
      "Get recommendation time: 20.04 sec.\n",
      "\n",
      "Step 26 of 112. Fitting model for factor=50, l_reg=0.05, iterations=15:"
     ]
    },
    {
     "data": {
      "application/vnd.jupyter.widget-view+json": {
       "model_id": "4f1f5e8ab13246f1be14fb974a4a42ee",
       "version_major": 2,
       "version_minor": 0
      },
      "text/plain": [
       "HBox(children=(HTML(value=''), FloatProgress(value=0.0, max=15.0), HTML(value='')))"
      ]
     },
     "metadata": {},
     "output_type": "display_data"
    },
    {
     "name": "stdout",
     "output_type": "stream",
     "text": [
      "\n",
      "Fit time: 2.12 sec.\n",
      "Get recommendation time: 19.98 sec.\n",
      "\n",
      "Step 27 of 112. Fitting model for factor=50, l_reg=0.05, iterations=25:"
     ]
    },
    {
     "data": {
      "application/vnd.jupyter.widget-view+json": {
       "model_id": "3b781920a3a54d9983adf56aac515016",
       "version_major": 2,
       "version_minor": 0
      },
      "text/plain": [
       "HBox(children=(HTML(value=''), FloatProgress(value=0.0, max=25.0), HTML(value='')))"
      ]
     },
     "metadata": {},
     "output_type": "display_data"
    },
    {
     "name": "stdout",
     "output_type": "stream",
     "text": [
      "\n",
      "Fit time: 3.45 sec.\n",
      "Get recommendation time: 20.0 sec.\n",
      "\n",
      "Step 28 of 112. Fitting model for factor=50, l_reg=0.05, iterations=35:"
     ]
    },
    {
     "data": {
      "application/vnd.jupyter.widget-view+json": {
       "model_id": "34f4487a50a442c58a05102d56363655",
       "version_major": 2,
       "version_minor": 0
      },
      "text/plain": [
       "HBox(children=(HTML(value=''), FloatProgress(value=0.0, max=35.0), HTML(value='')))"
      ]
     },
     "metadata": {},
     "output_type": "display_data"
    },
    {
     "name": "stdout",
     "output_type": "stream",
     "text": [
      "\n",
      "Fit time: 4.88 sec.\n",
      "Get recommendation time: 20.04 sec.\n",
      "\n",
      "Step 29 of 112. Fitting model for factor=50, l_reg=0.1, iterations=10:"
     ]
    },
    {
     "data": {
      "application/vnd.jupyter.widget-view+json": {
       "model_id": "e11148b15ab8467589a70d8461ad474b",
       "version_major": 2,
       "version_minor": 0
      },
      "text/plain": [
       "HBox(children=(HTML(value=''), FloatProgress(value=0.0, max=10.0), HTML(value='')))"
      ]
     },
     "metadata": {},
     "output_type": "display_data"
    },
    {
     "name": "stdout",
     "output_type": "stream",
     "text": [
      "\n",
      "Fit time: 1.42 sec.\n",
      "Get recommendation time: 19.9 sec.\n",
      "\n",
      "Step 30 of 112. Fitting model for factor=50, l_reg=0.1, iterations=15:"
     ]
    },
    {
     "data": {
      "application/vnd.jupyter.widget-view+json": {
       "model_id": "5a7a2d8347c449a1a44e5ec03cd1bbaf",
       "version_major": 2,
       "version_minor": 0
      },
      "text/plain": [
       "HBox(children=(HTML(value=''), FloatProgress(value=0.0, max=15.0), HTML(value='')))"
      ]
     },
     "metadata": {},
     "output_type": "display_data"
    },
    {
     "name": "stdout",
     "output_type": "stream",
     "text": [
      "\n",
      "Fit time: 2.1 sec.\n",
      "Get recommendation time: 19.9 sec.\n",
      "\n",
      "Step 31 of 112. Fitting model for factor=50, l_reg=0.1, iterations=25:"
     ]
    },
    {
     "data": {
      "application/vnd.jupyter.widget-view+json": {
       "model_id": "6fa5bcf6e5c946529230c5013b84ae5e",
       "version_major": 2,
       "version_minor": 0
      },
      "text/plain": [
       "HBox(children=(HTML(value=''), FloatProgress(value=0.0, max=25.0), HTML(value='')))"
      ]
     },
     "metadata": {},
     "output_type": "display_data"
    },
    {
     "name": "stdout",
     "output_type": "stream",
     "text": [
      "\n",
      "Fit time: 3.41 sec.\n",
      "Get recommendation time: 20.11 sec.\n",
      "\n",
      "Step 32 of 112. Fitting model for factor=50, l_reg=0.1, iterations=35:"
     ]
    },
    {
     "data": {
      "application/vnd.jupyter.widget-view+json": {
       "model_id": "a8849f5167b448fb836cb8dd8d71ca78",
       "version_major": 2,
       "version_minor": 0
      },
      "text/plain": [
       "HBox(children=(HTML(value=''), FloatProgress(value=0.0, max=35.0), HTML(value='')))"
      ]
     },
     "metadata": {},
     "output_type": "display_data"
    },
    {
     "name": "stdout",
     "output_type": "stream",
     "text": [
      "\n",
      "Fit time: 4.87 sec.\n",
      "Get recommendation time: 19.86 sec.\n",
      "\n",
      "Step 33 of 112. Fitting model for factor=75, l_reg=0.001, iterations=10:"
     ]
    },
    {
     "data": {
      "application/vnd.jupyter.widget-view+json": {
       "model_id": "1199887dec4a4b43aaf0af91393e2fb6",
       "version_major": 2,
       "version_minor": 0
      },
      "text/plain": [
       "HBox(children=(HTML(value=''), FloatProgress(value=0.0, max=10.0), HTML(value='')))"
      ]
     },
     "metadata": {},
     "output_type": "display_data"
    },
    {
     "name": "stdout",
     "output_type": "stream",
     "text": [
      "\n",
      "Fit time: 1.59 sec.\n",
      "Get recommendation time: 23.73 sec.\n",
      "\n",
      "Step 34 of 112. Fitting model for factor=75, l_reg=0.001, iterations=15:"
     ]
    },
    {
     "data": {
      "application/vnd.jupyter.widget-view+json": {
       "model_id": "3468150c3a44476b96d6a176640a2a7a",
       "version_major": 2,
       "version_minor": 0
      },
      "text/plain": [
       "HBox(children=(HTML(value=''), FloatProgress(value=0.0, max=15.0), HTML(value='')))"
      ]
     },
     "metadata": {},
     "output_type": "display_data"
    },
    {
     "name": "stdout",
     "output_type": "stream",
     "text": [
      "\n",
      "Fit time: 2.38 sec.\n",
      "Get recommendation time: 23.86 sec.\n",
      "\n",
      "Step 35 of 112. Fitting model for factor=75, l_reg=0.001, iterations=25:"
     ]
    },
    {
     "data": {
      "application/vnd.jupyter.widget-view+json": {
       "model_id": "a1f2b3991e344383a3d3e98d97466fcf",
       "version_major": 2,
       "version_minor": 0
      },
      "text/plain": [
       "HBox(children=(HTML(value=''), FloatProgress(value=0.0, max=25.0), HTML(value='')))"
      ]
     },
     "metadata": {},
     "output_type": "display_data"
    },
    {
     "name": "stdout",
     "output_type": "stream",
     "text": [
      "\n",
      "Fit time: 3.99 sec.\n",
      "Get recommendation time: 24.02 sec.\n",
      "\n",
      "Step 36 of 112. Fitting model for factor=75, l_reg=0.001, iterations=35:"
     ]
    },
    {
     "data": {
      "application/vnd.jupyter.widget-view+json": {
       "model_id": "ac33cb3eaa9b4c989f02a5992ba2cd54",
       "version_major": 2,
       "version_minor": 0
      },
      "text/plain": [
       "HBox(children=(HTML(value=''), FloatProgress(value=0.0, max=35.0), HTML(value='')))"
      ]
     },
     "metadata": {},
     "output_type": "display_data"
    },
    {
     "name": "stdout",
     "output_type": "stream",
     "text": [
      "\n",
      "Fit time: 5.64 sec.\n",
      "Get recommendation time: 23.98 sec.\n",
      "\n",
      "Step 37 of 112. Fitting model for factor=75, l_reg=0.01, iterations=10:"
     ]
    },
    {
     "data": {
      "application/vnd.jupyter.widget-view+json": {
       "model_id": "06930dd846cf4ad288a92c78fdd3777d",
       "version_major": 2,
       "version_minor": 0
      },
      "text/plain": [
       "HBox(children=(HTML(value=''), FloatProgress(value=0.0, max=10.0), HTML(value='')))"
      ]
     },
     "metadata": {},
     "output_type": "display_data"
    },
    {
     "name": "stdout",
     "output_type": "stream",
     "text": [
      "\n",
      "Fit time: 1.57 sec.\n",
      "Get recommendation time: 23.96 sec.\n",
      "\n",
      "Step 38 of 112. Fitting model for factor=75, l_reg=0.01, iterations=15:"
     ]
    },
    {
     "data": {
      "application/vnd.jupyter.widget-view+json": {
       "model_id": "a15f94c1741445a596b0bcd4767197a4",
       "version_major": 2,
       "version_minor": 0
      },
      "text/plain": [
       "HBox(children=(HTML(value=''), FloatProgress(value=0.0, max=15.0), HTML(value='')))"
      ]
     },
     "metadata": {},
     "output_type": "display_data"
    },
    {
     "name": "stdout",
     "output_type": "stream",
     "text": [
      "\n",
      "Fit time: 2.34 sec.\n",
      "Get recommendation time: 24.0 sec.\n",
      "\n",
      "Step 39 of 112. Fitting model for factor=75, l_reg=0.01, iterations=25:"
     ]
    },
    {
     "data": {
      "application/vnd.jupyter.widget-view+json": {
       "model_id": "457f147d7255441a8299476bfc3674b8",
       "version_major": 2,
       "version_minor": 0
      },
      "text/plain": [
       "HBox(children=(HTML(value=''), FloatProgress(value=0.0, max=25.0), HTML(value='')))"
      ]
     },
     "metadata": {},
     "output_type": "display_data"
    },
    {
     "name": "stdout",
     "output_type": "stream",
     "text": [
      "\n",
      "Fit time: 4.01 sec.\n",
      "Get recommendation time: 23.77 sec.\n",
      "\n",
      "Step 40 of 112. Fitting model for factor=75, l_reg=0.01, iterations=35:"
     ]
    },
    {
     "data": {
      "application/vnd.jupyter.widget-view+json": {
       "model_id": "bb3813e1b936492899280c335087d576",
       "version_major": 2,
       "version_minor": 0
      },
      "text/plain": [
       "HBox(children=(HTML(value=''), FloatProgress(value=0.0, max=35.0), HTML(value='')))"
      ]
     },
     "metadata": {},
     "output_type": "display_data"
    },
    {
     "name": "stdout",
     "output_type": "stream",
     "text": [
      "\n",
      "Fit time: 5.76 sec.\n",
      "Get recommendation time: 23.95 sec.\n",
      "\n",
      "Step 41 of 112. Fitting model for factor=75, l_reg=0.05, iterations=10:"
     ]
    },
    {
     "data": {
      "application/vnd.jupyter.widget-view+json": {
       "model_id": "1ec29f13bcc44d01a907da96c3742efb",
       "version_major": 2,
       "version_minor": 0
      },
      "text/plain": [
       "HBox(children=(HTML(value=''), FloatProgress(value=0.0, max=10.0), HTML(value='')))"
      ]
     },
     "metadata": {},
     "output_type": "display_data"
    },
    {
     "name": "stdout",
     "output_type": "stream",
     "text": [
      "\n",
      "Fit time: 1.59 sec.\n",
      "Get recommendation time: 24.04 sec.\n",
      "\n",
      "Step 42 of 112. Fitting model for factor=75, l_reg=0.05, iterations=15:"
     ]
    },
    {
     "data": {
      "application/vnd.jupyter.widget-view+json": {
       "model_id": "6d8ab5054799449899f01563205d5a77",
       "version_major": 2,
       "version_minor": 0
      },
      "text/plain": [
       "HBox(children=(HTML(value=''), FloatProgress(value=0.0, max=15.0), HTML(value='')))"
      ]
     },
     "metadata": {},
     "output_type": "display_data"
    },
    {
     "name": "stdout",
     "output_type": "stream",
     "text": [
      "\n",
      "Fit time: 2.38 sec.\n",
      "Get recommendation time: 23.92 sec.\n",
      "\n",
      "Step 43 of 112. Fitting model for factor=75, l_reg=0.05, iterations=25:"
     ]
    },
    {
     "data": {
      "application/vnd.jupyter.widget-view+json": {
       "model_id": "45e33be36fe24320a8775cb87762b843",
       "version_major": 2,
       "version_minor": 0
      },
      "text/plain": [
       "HBox(children=(HTML(value=''), FloatProgress(value=0.0, max=25.0), HTML(value='')))"
      ]
     },
     "metadata": {},
     "output_type": "display_data"
    },
    {
     "name": "stdout",
     "output_type": "stream",
     "text": [
      "\n",
      "Fit time: 3.84 sec.\n",
      "Get recommendation time: 24.0 sec.\n",
      "\n",
      "Step 44 of 112. Fitting model for factor=75, l_reg=0.05, iterations=35:"
     ]
    },
    {
     "data": {
      "application/vnd.jupyter.widget-view+json": {
       "model_id": "8657250981ee4b04b7352c2ef378bd9d",
       "version_major": 2,
       "version_minor": 0
      },
      "text/plain": [
       "HBox(children=(HTML(value=''), FloatProgress(value=0.0, max=35.0), HTML(value='')))"
      ]
     },
     "metadata": {},
     "output_type": "display_data"
    },
    {
     "name": "stdout",
     "output_type": "stream",
     "text": [
      "\n",
      "Fit time: 5.55 sec.\n",
      "Get recommendation time: 23.94 sec.\n",
      "\n",
      "Step 45 of 112. Fitting model for factor=75, l_reg=0.1, iterations=10:"
     ]
    },
    {
     "data": {
      "application/vnd.jupyter.widget-view+json": {
       "model_id": "6c020e0a4cba4d87923a13f015e04141",
       "version_major": 2,
       "version_minor": 0
      },
      "text/plain": [
       "HBox(children=(HTML(value=''), FloatProgress(value=0.0, max=10.0), HTML(value='')))"
      ]
     },
     "metadata": {},
     "output_type": "display_data"
    },
    {
     "name": "stdout",
     "output_type": "stream",
     "text": [
      "\n",
      "Fit time: 1.6 sec.\n",
      "Get recommendation time: 24.05 sec.\n",
      "\n",
      "Step 46 of 112. Fitting model for factor=75, l_reg=0.1, iterations=15:"
     ]
    },
    {
     "data": {
      "application/vnd.jupyter.widget-view+json": {
       "model_id": "c38ad2b754d34e59af67f958bae9e156",
       "version_major": 2,
       "version_minor": 0
      },
      "text/plain": [
       "HBox(children=(HTML(value=''), FloatProgress(value=0.0, max=15.0), HTML(value='')))"
      ]
     },
     "metadata": {},
     "output_type": "display_data"
    },
    {
     "name": "stdout",
     "output_type": "stream",
     "text": [
      "\n",
      "Fit time: 2.4 sec.\n",
      "Get recommendation time: 23.83 sec.\n",
      "\n",
      "Step 47 of 112. Fitting model for factor=75, l_reg=0.1, iterations=25:"
     ]
    },
    {
     "data": {
      "application/vnd.jupyter.widget-view+json": {
       "model_id": "0396001171e1456dba0d40748d5ac648",
       "version_major": 2,
       "version_minor": 0
      },
      "text/plain": [
       "HBox(children=(HTML(value=''), FloatProgress(value=0.0, max=25.0), HTML(value='')))"
      ]
     },
     "metadata": {},
     "output_type": "display_data"
    },
    {
     "name": "stdout",
     "output_type": "stream",
     "text": [
      "\n",
      "Fit time: 4.1 sec.\n",
      "Get recommendation time: 24.1 sec.\n",
      "\n",
      "Step 48 of 112. Fitting model for factor=75, l_reg=0.1, iterations=35:"
     ]
    },
    {
     "data": {
      "application/vnd.jupyter.widget-view+json": {
       "model_id": "c18faaf9b9b64eacb314b1174e9b1a73",
       "version_major": 2,
       "version_minor": 0
      },
      "text/plain": [
       "HBox(children=(HTML(value=''), FloatProgress(value=0.0, max=35.0), HTML(value='')))"
      ]
     },
     "metadata": {},
     "output_type": "display_data"
    },
    {
     "name": "stdout",
     "output_type": "stream",
     "text": [
      "\n",
      "Fit time: 5.39 sec.\n",
      "Get recommendation time: 23.92 sec.\n",
      "\n",
      "Step 49 of 112. Fitting model for factor=100, l_reg=0.001, iterations=10:"
     ]
    },
    {
     "data": {
      "application/vnd.jupyter.widget-view+json": {
       "model_id": "63bb4c51baca4d5784eb00da3483c2e8",
       "version_major": 2,
       "version_minor": 0
      },
      "text/plain": [
       "HBox(children=(HTML(value=''), FloatProgress(value=0.0, max=10.0), HTML(value='')))"
      ]
     },
     "metadata": {},
     "output_type": "display_data"
    },
    {
     "name": "stdout",
     "output_type": "stream",
     "text": [
      "\n",
      "Fit time: 1.89 sec.\n",
      "Get recommendation time: 28.41 sec.\n",
      "\n",
      "Step 50 of 112. Fitting model for factor=100, l_reg=0.001, iterations=15:"
     ]
    },
    {
     "data": {
      "application/vnd.jupyter.widget-view+json": {
       "model_id": "c084dd03389249a8bd808949bd8cf9f4",
       "version_major": 2,
       "version_minor": 0
      },
      "text/plain": [
       "HBox(children=(HTML(value=''), FloatProgress(value=0.0, max=15.0), HTML(value='')))"
      ]
     },
     "metadata": {},
     "output_type": "display_data"
    },
    {
     "name": "stdout",
     "output_type": "stream",
     "text": [
      "\n",
      "Fit time: 2.65 sec.\n",
      "Get recommendation time: 28.31 sec.\n",
      "\n",
      "Step 51 of 112. Fitting model for factor=100, l_reg=0.001, iterations=25:"
     ]
    },
    {
     "data": {
      "application/vnd.jupyter.widget-view+json": {
       "model_id": "3f27ad118da9497198fa7ec66200a42a",
       "version_major": 2,
       "version_minor": 0
      },
      "text/plain": [
       "HBox(children=(HTML(value=''), FloatProgress(value=0.0, max=25.0), HTML(value='')))"
      ]
     },
     "metadata": {},
     "output_type": "display_data"
    },
    {
     "name": "stdout",
     "output_type": "stream",
     "text": [
      "\n",
      "Fit time: 4.28 sec.\n",
      "Get recommendation time: 28.32 sec.\n",
      "\n",
      "Step 52 of 112. Fitting model for factor=100, l_reg=0.001, iterations=35:"
     ]
    },
    {
     "data": {
      "application/vnd.jupyter.widget-view+json": {
       "model_id": "8e65c1d0e65f450cac2192e89625993d",
       "version_major": 2,
       "version_minor": 0
      },
      "text/plain": [
       "HBox(children=(HTML(value=''), FloatProgress(value=0.0, max=35.0), HTML(value='')))"
      ]
     },
     "metadata": {},
     "output_type": "display_data"
    },
    {
     "name": "stdout",
     "output_type": "stream",
     "text": [
      "\n",
      "Fit time: 6.03 sec.\n",
      "Get recommendation time: 28.43 sec.\n",
      "\n",
      "Step 53 of 112. Fitting model for factor=100, l_reg=0.01, iterations=10:"
     ]
    },
    {
     "data": {
      "application/vnd.jupyter.widget-view+json": {
       "model_id": "adb2f72e1f12462e882b79bd68097267",
       "version_major": 2,
       "version_minor": 0
      },
      "text/plain": [
       "HBox(children=(HTML(value=''), FloatProgress(value=0.0, max=10.0), HTML(value='')))"
      ]
     },
     "metadata": {},
     "output_type": "display_data"
    },
    {
     "name": "stdout",
     "output_type": "stream",
     "text": [
      "\n",
      "Fit time: 1.73 sec.\n",
      "Get recommendation time: 28.26 sec.\n",
      "\n",
      "Step 54 of 112. Fitting model for factor=100, l_reg=0.01, iterations=15:"
     ]
    },
    {
     "data": {
      "application/vnd.jupyter.widget-view+json": {
       "model_id": "fb8af415f68349b59beb80c96e540e31",
       "version_major": 2,
       "version_minor": 0
      },
      "text/plain": [
       "HBox(children=(HTML(value=''), FloatProgress(value=0.0, max=15.0), HTML(value='')))"
      ]
     },
     "metadata": {},
     "output_type": "display_data"
    },
    {
     "name": "stdout",
     "output_type": "stream",
     "text": [
      "\n",
      "Fit time: 2.55 sec.\n",
      "Get recommendation time: 28.24 sec.\n",
      "\n",
      "Step 55 of 112. Fitting model for factor=100, l_reg=0.01, iterations=25:"
     ]
    },
    {
     "data": {
      "application/vnd.jupyter.widget-view+json": {
       "model_id": "035d6e8810e745b8a4ac99855d22120c",
       "version_major": 2,
       "version_minor": 0
      },
      "text/plain": [
       "HBox(children=(HTML(value=''), FloatProgress(value=0.0, max=25.0), HTML(value='')))"
      ]
     },
     "metadata": {},
     "output_type": "display_data"
    },
    {
     "name": "stdout",
     "output_type": "stream",
     "text": [
      "\n",
      "Fit time: 4.29 sec.\n",
      "Get recommendation time: 28.32 sec.\n",
      "\n",
      "Step 56 of 112. Fitting model for factor=100, l_reg=0.01, iterations=35:"
     ]
    },
    {
     "data": {
      "application/vnd.jupyter.widget-view+json": {
       "model_id": "d9bad4f827ba435e8d81885f0e1a9fd6",
       "version_major": 2,
       "version_minor": 0
      },
      "text/plain": [
       "HBox(children=(HTML(value=''), FloatProgress(value=0.0, max=35.0), HTML(value='')))"
      ]
     },
     "metadata": {},
     "output_type": "display_data"
    },
    {
     "name": "stdout",
     "output_type": "stream",
     "text": [
      "\n",
      "Fit time: 5.99 sec.\n",
      "Get recommendation time: 28.3 sec.\n",
      "\n",
      "Step 57 of 112. Fitting model for factor=100, l_reg=0.05, iterations=10:"
     ]
    },
    {
     "data": {
      "application/vnd.jupyter.widget-view+json": {
       "model_id": "2d80f404cc8d4309adc5d4c0567fa0b1",
       "version_major": 2,
       "version_minor": 0
      },
      "text/plain": [
       "HBox(children=(HTML(value=''), FloatProgress(value=0.0, max=10.0), HTML(value='')))"
      ]
     },
     "metadata": {},
     "output_type": "display_data"
    },
    {
     "name": "stdout",
     "output_type": "stream",
     "text": [
      "\n",
      "Fit time: 1.9 sec.\n",
      "Get recommendation time: 28.35 sec.\n",
      "\n",
      "Step 58 of 112. Fitting model for factor=100, l_reg=0.05, iterations=15:"
     ]
    },
    {
     "data": {
      "application/vnd.jupyter.widget-view+json": {
       "model_id": "7a23af7ba2dc47e6970b56c1cdaf5de0",
       "version_major": 2,
       "version_minor": 0
      },
      "text/plain": [
       "HBox(children=(HTML(value=''), FloatProgress(value=0.0, max=15.0), HTML(value='')))"
      ]
     },
     "metadata": {},
     "output_type": "display_data"
    },
    {
     "name": "stdout",
     "output_type": "stream",
     "text": [
      "\n",
      "Fit time: 2.59 sec.\n",
      "Get recommendation time: 28.61 sec.\n",
      "\n",
      "Step 59 of 112. Fitting model for factor=100, l_reg=0.05, iterations=25:"
     ]
    },
    {
     "data": {
      "application/vnd.jupyter.widget-view+json": {
       "model_id": "d9afe588ce8a4ca382fd3496c4358d6f",
       "version_major": 2,
       "version_minor": 0
      },
      "text/plain": [
       "HBox(children=(HTML(value=''), FloatProgress(value=0.0, max=25.0), HTML(value='')))"
      ]
     },
     "metadata": {},
     "output_type": "display_data"
    },
    {
     "name": "stdout",
     "output_type": "stream",
     "text": [
      "\n",
      "Fit time: 4.34 sec.\n",
      "Get recommendation time: 28.2 sec.\n",
      "\n",
      "Step 60 of 112. Fitting model for factor=100, l_reg=0.05, iterations=35:"
     ]
    },
    {
     "data": {
      "application/vnd.jupyter.widget-view+json": {
       "model_id": "cdeed28d65ee427daa7a72eea8b83941",
       "version_major": 2,
       "version_minor": 0
      },
      "text/plain": [
       "HBox(children=(HTML(value=''), FloatProgress(value=0.0, max=35.0), HTML(value='')))"
      ]
     },
     "metadata": {},
     "output_type": "display_data"
    },
    {
     "name": "stdout",
     "output_type": "stream",
     "text": [
      "\n",
      "Fit time: 6.22 sec.\n",
      "Get recommendation time: 28.85 sec.\n",
      "\n",
      "Step 61 of 112. Fitting model for factor=100, l_reg=0.1, iterations=10:"
     ]
    },
    {
     "data": {
      "application/vnd.jupyter.widget-view+json": {
       "model_id": "63e4107be9324479ae873457cba4e82f",
       "version_major": 2,
       "version_minor": 0
      },
      "text/plain": [
       "HBox(children=(HTML(value=''), FloatProgress(value=0.0, max=10.0), HTML(value='')))"
      ]
     },
     "metadata": {},
     "output_type": "display_data"
    },
    {
     "name": "stdout",
     "output_type": "stream",
     "text": [
      "\n",
      "Fit time: 1.77 sec.\n",
      "Get recommendation time: 28.23 sec.\n",
      "\n",
      "Step 62 of 112. Fitting model for factor=100, l_reg=0.1, iterations=15:"
     ]
    },
    {
     "data": {
      "application/vnd.jupyter.widget-view+json": {
       "model_id": "549d9d9186914c98bf1a51d829e14ebe",
       "version_major": 2,
       "version_minor": 0
      },
      "text/plain": [
       "HBox(children=(HTML(value=''), FloatProgress(value=0.0, max=15.0), HTML(value='')))"
      ]
     },
     "metadata": {},
     "output_type": "display_data"
    },
    {
     "name": "stdout",
     "output_type": "stream",
     "text": [
      "\n",
      "Fit time: 2.63 sec.\n",
      "Get recommendation time: 28.31 sec.\n",
      "\n",
      "Step 63 of 112. Fitting model for factor=100, l_reg=0.1, iterations=25:"
     ]
    },
    {
     "data": {
      "application/vnd.jupyter.widget-view+json": {
       "model_id": "7fa57cb13c9c408da05822cb3061a469",
       "version_major": 2,
       "version_minor": 0
      },
      "text/plain": [
       "HBox(children=(HTML(value=''), FloatProgress(value=0.0, max=25.0), HTML(value='')))"
      ]
     },
     "metadata": {},
     "output_type": "display_data"
    },
    {
     "name": "stdout",
     "output_type": "stream",
     "text": [
      "\n",
      "Fit time: 4.28 sec.\n",
      "Get recommendation time: 28.64 sec.\n",
      "\n",
      "Step 64 of 112. Fitting model for factor=100, l_reg=0.1, iterations=35:"
     ]
    },
    {
     "data": {
      "application/vnd.jupyter.widget-view+json": {
       "model_id": "b842ae32df364d3ab0407622d2daf007",
       "version_major": 2,
       "version_minor": 0
      },
      "text/plain": [
       "HBox(children=(HTML(value=''), FloatProgress(value=0.0, max=35.0), HTML(value='')))"
      ]
     },
     "metadata": {},
     "output_type": "display_data"
    },
    {
     "name": "stdout",
     "output_type": "stream",
     "text": [
      "\n",
      "Fit time: 6.0 sec.\n",
      "Get recommendation time: 28.36 sec.\n",
      "\n",
      "Step 65 of 112. Fitting model for factor=125, l_reg=0.001, iterations=10:"
     ]
    },
    {
     "data": {
      "application/vnd.jupyter.widget-view+json": {
       "model_id": "7ef0f12f0593420999ca918e5d1d3900",
       "version_major": 2,
       "version_minor": 0
      },
      "text/plain": [
       "HBox(children=(HTML(value=''), FloatProgress(value=0.0, max=10.0), HTML(value='')))"
      ]
     },
     "metadata": {},
     "output_type": "display_data"
    },
    {
     "name": "stdout",
     "output_type": "stream",
     "text": [
      "\n",
      "Fit time: 2.02 sec.\n",
      "Get recommendation time: 33.09 sec.\n",
      "\n",
      "Step 66 of 112. Fitting model for factor=125, l_reg=0.001, iterations=15:"
     ]
    },
    {
     "data": {
      "application/vnd.jupyter.widget-view+json": {
       "model_id": "2cef7905ac4742468e8888e2d088ecef",
       "version_major": 2,
       "version_minor": 0
      },
      "text/plain": [
       "HBox(children=(HTML(value=''), FloatProgress(value=0.0, max=15.0), HTML(value='')))"
      ]
     },
     "metadata": {},
     "output_type": "display_data"
    },
    {
     "name": "stdout",
     "output_type": "stream",
     "text": [
      "\n",
      "Fit time: 2.91 sec.\n",
      "Get recommendation time: 33.94 sec.\n",
      "\n",
      "Step 67 of 112. Fitting model for factor=125, l_reg=0.001, iterations=25:"
     ]
    },
    {
     "data": {
      "application/vnd.jupyter.widget-view+json": {
       "model_id": "a18dd62e0e5b463e9e0f036db0a2e629",
       "version_major": 2,
       "version_minor": 0
      },
      "text/plain": [
       "HBox(children=(HTML(value=''), FloatProgress(value=0.0, max=25.0), HTML(value='')))"
      ]
     },
     "metadata": {},
     "output_type": "display_data"
    },
    {
     "name": "stdout",
     "output_type": "stream",
     "text": [
      "\n",
      "Fit time: 5.01 sec.\n",
      "Get recommendation time: 33.31 sec.\n",
      "\n",
      "Step 68 of 112. Fitting model for factor=125, l_reg=0.001, iterations=35:"
     ]
    },
    {
     "data": {
      "application/vnd.jupyter.widget-view+json": {
       "model_id": "44bd591a3b6d4ede9e1f2123cd26401f",
       "version_major": 2,
       "version_minor": 0
      },
      "text/plain": [
       "HBox(children=(HTML(value=''), FloatProgress(value=0.0, max=35.0), HTML(value='')))"
      ]
     },
     "metadata": {},
     "output_type": "display_data"
    },
    {
     "name": "stdout",
     "output_type": "stream",
     "text": [
      "\n",
      "Fit time: 6.81 sec.\n",
      "Get recommendation time: 32.95 sec.\n",
      "\n",
      "Step 69 of 112. Fitting model for factor=125, l_reg=0.01, iterations=10:"
     ]
    },
    {
     "data": {
      "application/vnd.jupyter.widget-view+json": {
       "model_id": "c7535b4a66054d1b8478de22dbaa0ce0",
       "version_major": 2,
       "version_minor": 0
      },
      "text/plain": [
       "HBox(children=(HTML(value=''), FloatProgress(value=0.0, max=10.0), HTML(value='')))"
      ]
     },
     "metadata": {},
     "output_type": "display_data"
    },
    {
     "name": "stdout",
     "output_type": "stream",
     "text": [
      "\n",
      "Fit time: 2.03 sec.\n",
      "Get recommendation time: 32.94 sec.\n",
      "\n",
      "Step 70 of 112. Fitting model for factor=125, l_reg=0.01, iterations=15:"
     ]
    },
    {
     "data": {
      "application/vnd.jupyter.widget-view+json": {
       "model_id": "d8b0832dc4c9418d918ed01e6ac671b2",
       "version_major": 2,
       "version_minor": 0
      },
      "text/plain": [
       "HBox(children=(HTML(value=''), FloatProgress(value=0.0, max=15.0), HTML(value='')))"
      ]
     },
     "metadata": {},
     "output_type": "display_data"
    },
    {
     "name": "stdout",
     "output_type": "stream",
     "text": [
      "\n",
      "Fit time: 3.0 sec.\n",
      "Get recommendation time: 33.09 sec.\n",
      "\n",
      "Step 71 of 112. Fitting model for factor=125, l_reg=0.01, iterations=25:"
     ]
    },
    {
     "data": {
      "application/vnd.jupyter.widget-view+json": {
       "model_id": "9303a1c030894a9298d24ad4131db121",
       "version_major": 2,
       "version_minor": 0
      },
      "text/plain": [
       "HBox(children=(HTML(value=''), FloatProgress(value=0.0, max=25.0), HTML(value='')))"
      ]
     },
     "metadata": {},
     "output_type": "display_data"
    },
    {
     "name": "stdout",
     "output_type": "stream",
     "text": [
      "\n",
      "Fit time: 5.05 sec.\n",
      "Get recommendation time: 33.18 sec.\n",
      "\n",
      "Step 72 of 112. Fitting model for factor=125, l_reg=0.01, iterations=35:"
     ]
    },
    {
     "data": {
      "application/vnd.jupyter.widget-view+json": {
       "model_id": "fb38e955e148498e9a7a4a349c8d1ca4",
       "version_major": 2,
       "version_minor": 0
      },
      "text/plain": [
       "HBox(children=(HTML(value=''), FloatProgress(value=0.0, max=35.0), HTML(value='')))"
      ]
     },
     "metadata": {},
     "output_type": "display_data"
    },
    {
     "name": "stdout",
     "output_type": "stream",
     "text": [
      "\n",
      "Fit time: 7.05 sec.\n",
      "Get recommendation time: 33.16 sec.\n",
      "\n",
      "Step 73 of 112. Fitting model for factor=125, l_reg=0.05, iterations=10:"
     ]
    },
    {
     "data": {
      "application/vnd.jupyter.widget-view+json": {
       "model_id": "08ee0528b56543c7886d20a3d7c58b74",
       "version_major": 2,
       "version_minor": 0
      },
      "text/plain": [
       "HBox(children=(HTML(value=''), FloatProgress(value=0.0, max=10.0), HTML(value='')))"
      ]
     },
     "metadata": {},
     "output_type": "display_data"
    },
    {
     "name": "stdout",
     "output_type": "stream",
     "text": [
      "\n",
      "Fit time: 2.02 sec.\n",
      "Get recommendation time: 33.2 sec.\n",
      "\n",
      "Step 74 of 112. Fitting model for factor=125, l_reg=0.05, iterations=15:"
     ]
    },
    {
     "data": {
      "application/vnd.jupyter.widget-view+json": {
       "model_id": "c237d1eeeea84c4fba64009778f356ea",
       "version_major": 2,
       "version_minor": 0
      },
      "text/plain": [
       "HBox(children=(HTML(value=''), FloatProgress(value=0.0, max=15.0), HTML(value='')))"
      ]
     },
     "metadata": {},
     "output_type": "display_data"
    },
    {
     "name": "stdout",
     "output_type": "stream",
     "text": [
      "\n",
      "Fit time: 2.97 sec.\n",
      "Get recommendation time: 33.35 sec.\n",
      "\n",
      "Step 75 of 112. Fitting model for factor=125, l_reg=0.05, iterations=25:"
     ]
    },
    {
     "data": {
      "application/vnd.jupyter.widget-view+json": {
       "model_id": "970d6d63650e4d44ab7216a1442f7679",
       "version_major": 2,
       "version_minor": 0
      },
      "text/plain": [
       "HBox(children=(HTML(value=''), FloatProgress(value=0.0, max=25.0), HTML(value='')))"
      ]
     },
     "metadata": {},
     "output_type": "display_data"
    },
    {
     "name": "stdout",
     "output_type": "stream",
     "text": [
      "\n",
      "Fit time: 4.87 sec.\n",
      "Get recommendation time: 33.38 sec.\n",
      "\n",
      "Step 76 of 112. Fitting model for factor=125, l_reg=0.05, iterations=35:"
     ]
    },
    {
     "data": {
      "application/vnd.jupyter.widget-view+json": {
       "model_id": "bd2760912edf4b208689532fb818330f",
       "version_major": 2,
       "version_minor": 0
      },
      "text/plain": [
       "HBox(children=(HTML(value=''), FloatProgress(value=0.0, max=35.0), HTML(value='')))"
      ]
     },
     "metadata": {},
     "output_type": "display_data"
    },
    {
     "name": "stdout",
     "output_type": "stream",
     "text": [
      "\n",
      "Fit time: 6.81 sec.\n",
      "Get recommendation time: 33.2 sec.\n",
      "\n",
      "Step 77 of 112. Fitting model for factor=125, l_reg=0.1, iterations=10:"
     ]
    },
    {
     "data": {
      "application/vnd.jupyter.widget-view+json": {
       "model_id": "df9a656902ef4bd2b6f55eb7952cac75",
       "version_major": 2,
       "version_minor": 0
      },
      "text/plain": [
       "HBox(children=(HTML(value=''), FloatProgress(value=0.0, max=10.0), HTML(value='')))"
      ]
     },
     "metadata": {},
     "output_type": "display_data"
    },
    {
     "name": "stdout",
     "output_type": "stream",
     "text": [
      "\n",
      "Fit time: 2.03 sec.\n",
      "Get recommendation time: 33.73 sec.\n",
      "\n",
      "Step 78 of 112. Fitting model for factor=125, l_reg=0.1, iterations=15:"
     ]
    },
    {
     "data": {
      "application/vnd.jupyter.widget-view+json": {
       "model_id": "62cefad3e9114aa6a44336415c144e3b",
       "version_major": 2,
       "version_minor": 0
      },
      "text/plain": [
       "HBox(children=(HTML(value=''), FloatProgress(value=0.0, max=15.0), HTML(value='')))"
      ]
     },
     "metadata": {},
     "output_type": "display_data"
    },
    {
     "name": "stdout",
     "output_type": "stream",
     "text": [
      "\n",
      "Fit time: 2.87 sec.\n",
      "Get recommendation time: 33.87 sec.\n",
      "\n",
      "Step 79 of 112. Fitting model for factor=125, l_reg=0.1, iterations=25:"
     ]
    },
    {
     "data": {
      "application/vnd.jupyter.widget-view+json": {
       "model_id": "48487f4ea7af4c1a8ab67f7a3584fabd",
       "version_major": 2,
       "version_minor": 0
      },
      "text/plain": [
       "HBox(children=(HTML(value=''), FloatProgress(value=0.0, max=25.0), HTML(value='')))"
      ]
     },
     "metadata": {},
     "output_type": "display_data"
    },
    {
     "name": "stdout",
     "output_type": "stream",
     "text": [
      "\n",
      "Fit time: 4.83 sec.\n",
      "Get recommendation time: 33.91 sec.\n",
      "\n",
      "Step 80 of 112. Fitting model for factor=125, l_reg=0.1, iterations=35:"
     ]
    },
    {
     "data": {
      "application/vnd.jupyter.widget-view+json": {
       "model_id": "47587176272e451b8b416cb303b38cb8",
       "version_major": 2,
       "version_minor": 0
      },
      "text/plain": [
       "HBox(children=(HTML(value=''), FloatProgress(value=0.0, max=35.0), HTML(value='')))"
      ]
     },
     "metadata": {},
     "output_type": "display_data"
    },
    {
     "name": "stdout",
     "output_type": "stream",
     "text": [
      "\n",
      "Fit time: 6.83 sec.\n",
      "Get recommendation time: 33.3 sec.\n",
      "\n",
      "Step 81 of 112. Fitting model for factor=150, l_reg=0.001, iterations=10:"
     ]
    },
    {
     "data": {
      "application/vnd.jupyter.widget-view+json": {
       "model_id": "9131fddc616c4650bc3012bacefa89ac",
       "version_major": 2,
       "version_minor": 0
      },
      "text/plain": [
       "HBox(children=(HTML(value=''), FloatProgress(value=0.0, max=10.0), HTML(value='')))"
      ]
     },
     "metadata": {},
     "output_type": "display_data"
    },
    {
     "name": "stdout",
     "output_type": "stream",
     "text": [
      "\n",
      "Fit time: 2.17 sec.\n",
      "Get recommendation time: 41.09 sec.\n",
      "\n",
      "Step 82 of 112. Fitting model for factor=150, l_reg=0.001, iterations=15:"
     ]
    },
    {
     "data": {
      "application/vnd.jupyter.widget-view+json": {
       "model_id": "5fdcbf9082df43888fb9821931f6b563",
       "version_major": 2,
       "version_minor": 0
      },
      "text/plain": [
       "HBox(children=(HTML(value=''), FloatProgress(value=0.0, max=15.0), HTML(value='')))"
      ]
     },
     "metadata": {},
     "output_type": "display_data"
    },
    {
     "name": "stdout",
     "output_type": "stream",
     "text": [
      "\n",
      "Fit time: 3.24 sec.\n",
      "Get recommendation time: 40.5 sec.\n",
      "\n",
      "Step 83 of 112. Fitting model for factor=150, l_reg=0.001, iterations=25:"
     ]
    },
    {
     "data": {
      "application/vnd.jupyter.widget-view+json": {
       "model_id": "3a78ca61f56c4110a19d6de28ea7a0d0",
       "version_major": 2,
       "version_minor": 0
      },
      "text/plain": [
       "HBox(children=(HTML(value=''), FloatProgress(value=0.0, max=25.0), HTML(value='')))"
      ]
     },
     "metadata": {},
     "output_type": "display_data"
    },
    {
     "name": "stdout",
     "output_type": "stream",
     "text": [
      "\n",
      "Fit time: 5.41 sec.\n",
      "Get recommendation time: 40.57 sec.\n",
      "\n",
      "Step 84 of 112. Fitting model for factor=150, l_reg=0.001, iterations=35:"
     ]
    },
    {
     "data": {
      "application/vnd.jupyter.widget-view+json": {
       "model_id": "089ca03b578c43a98f84bed0dfc401e1",
       "version_major": 2,
       "version_minor": 0
      },
      "text/plain": [
       "HBox(children=(HTML(value=''), FloatProgress(value=0.0, max=35.0), HTML(value='')))"
      ]
     },
     "metadata": {},
     "output_type": "display_data"
    },
    {
     "name": "stdout",
     "output_type": "stream",
     "text": [
      "\n",
      "Fit time: 7.58 sec.\n",
      "Get recommendation time: 39.86 sec.\n",
      "\n",
      "Step 85 of 112. Fitting model for factor=150, l_reg=0.01, iterations=10:"
     ]
    },
    {
     "data": {
      "application/vnd.jupyter.widget-view+json": {
       "model_id": "337693ba6ec9427c8c553b2432d3b0d2",
       "version_major": 2,
       "version_minor": 0
      },
      "text/plain": [
       "HBox(children=(HTML(value=''), FloatProgress(value=0.0, max=10.0), HTML(value='')))"
      ]
     },
     "metadata": {},
     "output_type": "display_data"
    },
    {
     "name": "stdout",
     "output_type": "stream",
     "text": [
      "\n",
      "Fit time: 2.28 sec.\n",
      "Get recommendation time: 39.98 sec.\n",
      "\n",
      "Step 86 of 112. Fitting model for factor=150, l_reg=0.01, iterations=15:"
     ]
    },
    {
     "data": {
      "application/vnd.jupyter.widget-view+json": {
       "model_id": "41cc5b91644343cfbd02139c72300105",
       "version_major": 2,
       "version_minor": 0
      },
      "text/plain": [
       "HBox(children=(HTML(value=''), FloatProgress(value=0.0, max=15.0), HTML(value='')))"
      ]
     },
     "metadata": {},
     "output_type": "display_data"
    },
    {
     "name": "stdout",
     "output_type": "stream",
     "text": [
      "\n",
      "Fit time: 3.31 sec.\n",
      "Get recommendation time: 40.33 sec.\n",
      "\n",
      "Step 87 of 112. Fitting model for factor=150, l_reg=0.01, iterations=25:"
     ]
    },
    {
     "data": {
      "application/vnd.jupyter.widget-view+json": {
       "model_id": "8ac462ba78d64becb43046c9de874688",
       "version_major": 2,
       "version_minor": 0
      },
      "text/plain": [
       "HBox(children=(HTML(value=''), FloatProgress(value=0.0, max=25.0), HTML(value='')))"
      ]
     },
     "metadata": {},
     "output_type": "display_data"
    },
    {
     "name": "stdout",
     "output_type": "stream",
     "text": [
      "\n",
      "Fit time: 5.75 sec.\n",
      "Get recommendation time: 40.47 sec.\n",
      "\n",
      "Step 88 of 112. Fitting model for factor=150, l_reg=0.01, iterations=35:"
     ]
    },
    {
     "data": {
      "application/vnd.jupyter.widget-view+json": {
       "model_id": "14af4c6c29044fd0866abd038bf0ddb1",
       "version_major": 2,
       "version_minor": 0
      },
      "text/plain": [
       "HBox(children=(HTML(value=''), FloatProgress(value=0.0, max=35.0), HTML(value='')))"
      ]
     },
     "metadata": {},
     "output_type": "display_data"
    },
    {
     "name": "stdout",
     "output_type": "stream",
     "text": [
      "\n",
      "Fit time: 7.84 sec.\n",
      "Get recommendation time: 40.67 sec.\n",
      "\n",
      "Step 89 of 112. Fitting model for factor=150, l_reg=0.05, iterations=10:"
     ]
    },
    {
     "data": {
      "application/vnd.jupyter.widget-view+json": {
       "model_id": "d329f9744c894415a1d7ab309222b60f",
       "version_major": 2,
       "version_minor": 0
      },
      "text/plain": [
       "HBox(children=(HTML(value=''), FloatProgress(value=0.0, max=10.0), HTML(value='')))"
      ]
     },
     "metadata": {},
     "output_type": "display_data"
    },
    {
     "name": "stdout",
     "output_type": "stream",
     "text": [
      "\n",
      "Fit time: 2.21 sec.\n",
      "Get recommendation time: 40.18 sec.\n",
      "\n",
      "Step 90 of 112. Fitting model for factor=150, l_reg=0.05, iterations=15:"
     ]
    },
    {
     "data": {
      "application/vnd.jupyter.widget-view+json": {
       "model_id": "ccd8ea5d116b4aa2bbcd61312b9e219e",
       "version_major": 2,
       "version_minor": 0
      },
      "text/plain": [
       "HBox(children=(HTML(value=''), FloatProgress(value=0.0, max=15.0), HTML(value='')))"
      ]
     },
     "metadata": {},
     "output_type": "display_data"
    },
    {
     "name": "stdout",
     "output_type": "stream",
     "text": [
      "\n",
      "Fit time: 3.34 sec.\n",
      "Get recommendation time: 39.96 sec.\n",
      "\n",
      "Step 91 of 112. Fitting model for factor=150, l_reg=0.05, iterations=25:"
     ]
    },
    {
     "data": {
      "application/vnd.jupyter.widget-view+json": {
       "model_id": "d6a2d8fcc81c4d02a1a77333627b5c7b",
       "version_major": 2,
       "version_minor": 0
      },
      "text/plain": [
       "HBox(children=(HTML(value=''), FloatProgress(value=0.0, max=25.0), HTML(value='')))"
      ]
     },
     "metadata": {},
     "output_type": "display_data"
    },
    {
     "name": "stdout",
     "output_type": "stream",
     "text": [
      "\n",
      "Fit time: 5.42 sec.\n",
      "Get recommendation time: 40.45 sec.\n",
      "\n",
      "Step 92 of 112. Fitting model for factor=150, l_reg=0.05, iterations=35:"
     ]
    },
    {
     "data": {
      "application/vnd.jupyter.widget-view+json": {
       "model_id": "b74b0faa76e64f5d843b19fcc4a2839e",
       "version_major": 2,
       "version_minor": 0
      },
      "text/plain": [
       "HBox(children=(HTML(value=''), FloatProgress(value=0.0, max=35.0), HTML(value='')))"
      ]
     },
     "metadata": {},
     "output_type": "display_data"
    },
    {
     "name": "stdout",
     "output_type": "stream",
     "text": [
      "\n",
      "Fit time: 7.56 sec.\n",
      "Get recommendation time: 40.34 sec.\n",
      "\n",
      "Step 93 of 112. Fitting model for factor=150, l_reg=0.1, iterations=10:"
     ]
    },
    {
     "data": {
      "application/vnd.jupyter.widget-view+json": {
       "model_id": "046808be0e404026b3d227ec03a1c729",
       "version_major": 2,
       "version_minor": 0
      },
      "text/plain": [
       "HBox(children=(HTML(value=''), FloatProgress(value=0.0, max=10.0), HTML(value='')))"
      ]
     },
     "metadata": {},
     "output_type": "display_data"
    },
    {
     "name": "stdout",
     "output_type": "stream",
     "text": [
      "\n",
      "Fit time: 2.22 sec.\n",
      "Get recommendation time: 39.77 sec.\n",
      "\n",
      "Step 94 of 112. Fitting model for factor=150, l_reg=0.1, iterations=15:"
     ]
    },
    {
     "data": {
      "application/vnd.jupyter.widget-view+json": {
       "model_id": "b63042782c174496a0fef5e96644a71a",
       "version_major": 2,
       "version_minor": 0
      },
      "text/plain": [
       "HBox(children=(HTML(value=''), FloatProgress(value=0.0, max=15.0), HTML(value='')))"
      ]
     },
     "metadata": {},
     "output_type": "display_data"
    },
    {
     "name": "stdout",
     "output_type": "stream",
     "text": [
      "\n",
      "Fit time: 3.33 sec.\n",
      "Get recommendation time: 40.44 sec.\n",
      "\n",
      "Step 95 of 112. Fitting model for factor=150, l_reg=0.1, iterations=25:"
     ]
    },
    {
     "data": {
      "application/vnd.jupyter.widget-view+json": {
       "model_id": "a01fd30ee836438aba195607c9ad1520",
       "version_major": 2,
       "version_minor": 0
      },
      "text/plain": [
       "HBox(children=(HTML(value=''), FloatProgress(value=0.0, max=25.0), HTML(value='')))"
      ]
     },
     "metadata": {},
     "output_type": "display_data"
    },
    {
     "name": "stdout",
     "output_type": "stream",
     "text": [
      "\n",
      "Fit time: 6.48 sec.\n",
      "Get recommendation time: 40.97 sec.\n",
      "\n",
      "Step 96 of 112. Fitting model for factor=150, l_reg=0.1, iterations=35:"
     ]
    },
    {
     "data": {
      "application/vnd.jupyter.widget-view+json": {
       "model_id": "4a4d28704f864cbbaf341ecad0c1958e",
       "version_major": 2,
       "version_minor": 0
      },
      "text/plain": [
       "HBox(children=(HTML(value=''), FloatProgress(value=0.0, max=35.0), HTML(value='')))"
      ]
     },
     "metadata": {},
     "output_type": "display_data"
    },
    {
     "name": "stdout",
     "output_type": "stream",
     "text": [
      "\n",
      "Fit time: 7.82 sec.\n",
      "Get recommendation time: 40.34 sec.\n",
      "\n",
      "Step 97 of 112. Fitting model for factor=175, l_reg=0.001, iterations=10:"
     ]
    },
    {
     "data": {
      "application/vnd.jupyter.widget-view+json": {
       "model_id": "b48305e3c9f54b68a3c0b3207127df59",
       "version_major": 2,
       "version_minor": 0
      },
      "text/plain": [
       "HBox(children=(HTML(value=''), FloatProgress(value=0.0, max=10.0), HTML(value='')))"
      ]
     },
     "metadata": {},
     "output_type": "display_data"
    },
    {
     "name": "stdout",
     "output_type": "stream",
     "text": [
      "\n",
      "Fit time: 2.44 sec.\n",
      "Get recommendation time: 47.07 sec.\n",
      "\n",
      "Step 98 of 112. Fitting model for factor=175, l_reg=0.001, iterations=15:"
     ]
    },
    {
     "data": {
      "application/vnd.jupyter.widget-view+json": {
       "model_id": "0d80e4421f404f9ea895018c790e02c7",
       "version_major": 2,
       "version_minor": 0
      },
      "text/plain": [
       "HBox(children=(HTML(value=''), FloatProgress(value=0.0, max=15.0), HTML(value='')))"
      ]
     },
     "metadata": {},
     "output_type": "display_data"
    },
    {
     "name": "stdout",
     "output_type": "stream",
     "text": [
      "\n",
      "Fit time: 3.8 sec.\n",
      "Get recommendation time: 46.68 sec.\n",
      "\n",
      "Step 99 of 112. Fitting model for factor=175, l_reg=0.001, iterations=25:"
     ]
    },
    {
     "data": {
      "application/vnd.jupyter.widget-view+json": {
       "model_id": "b48f030ac5944866814fc150de440557",
       "version_major": 2,
       "version_minor": 0
      },
      "text/plain": [
       "HBox(children=(HTML(value=''), FloatProgress(value=0.0, max=25.0), HTML(value='')))"
      ]
     },
     "metadata": {},
     "output_type": "display_data"
    },
    {
     "name": "stdout",
     "output_type": "stream",
     "text": [
      "\n",
      "Fit time: 6.28 sec.\n",
      "Get recommendation time: 46.52 sec.\n",
      "\n",
      "Step 100 of 112. Fitting model for factor=175, l_reg=0.001, iterations=35:"
     ]
    },
    {
     "data": {
      "application/vnd.jupyter.widget-view+json": {
       "model_id": "6de555b6e18645f8a5455287f9a5acce",
       "version_major": 2,
       "version_minor": 0
      },
      "text/plain": [
       "HBox(children=(HTML(value=''), FloatProgress(value=0.0, max=35.0), HTML(value='')))"
      ]
     },
     "metadata": {},
     "output_type": "display_data"
    },
    {
     "name": "stdout",
     "output_type": "stream",
     "text": [
      "\n",
      "Fit time: 8.81 sec.\n",
      "Get recommendation time: 46.37 sec.\n",
      "\n",
      "Step 101 of 112. Fitting model for factor=175, l_reg=0.01, iterations=10:"
     ]
    },
    {
     "data": {
      "application/vnd.jupyter.widget-view+json": {
       "model_id": "c17667b2e6b84f8f8dd8070ad76040e8",
       "version_major": 2,
       "version_minor": 0
      },
      "text/plain": [
       "HBox(children=(HTML(value=''), FloatProgress(value=0.0, max=10.0), HTML(value='')))"
      ]
     },
     "metadata": {},
     "output_type": "display_data"
    },
    {
     "name": "stdout",
     "output_type": "stream",
     "text": [
      "\n",
      "Fit time: 2.51 sec.\n",
      "Get recommendation time: 47.19 sec.\n",
      "\n",
      "Step 102 of 112. Fitting model for factor=175, l_reg=0.01, iterations=15:"
     ]
    },
    {
     "data": {
      "application/vnd.jupyter.widget-view+json": {
       "model_id": "60dc362e74bb447ca981b90aa1bfe214",
       "version_major": 2,
       "version_minor": 0
      },
      "text/plain": [
       "HBox(children=(HTML(value=''), FloatProgress(value=0.0, max=15.0), HTML(value='')))"
      ]
     },
     "metadata": {},
     "output_type": "display_data"
    },
    {
     "name": "stdout",
     "output_type": "stream",
     "text": [
      "\n",
      "Fit time: 4.39 sec.\n",
      "Get recommendation time: 46.6 sec.\n",
      "\n",
      "Step 103 of 112. Fitting model for factor=175, l_reg=0.01, iterations=25:"
     ]
    },
    {
     "data": {
      "application/vnd.jupyter.widget-view+json": {
       "model_id": "05eedc691c884f30b29165f1a02312f9",
       "version_major": 2,
       "version_minor": 0
      },
      "text/plain": [
       "HBox(children=(HTML(value=''), FloatProgress(value=0.0, max=25.0), HTML(value='')))"
      ]
     },
     "metadata": {},
     "output_type": "display_data"
    },
    {
     "name": "stdout",
     "output_type": "stream",
     "text": [
      "\n",
      "Fit time: 6.25 sec.\n",
      "Get recommendation time: 45.32 sec.\n",
      "\n",
      "Step 104 of 112. Fitting model for factor=175, l_reg=0.01, iterations=35:"
     ]
    },
    {
     "data": {
      "application/vnd.jupyter.widget-view+json": {
       "model_id": "45cf82b826ff4b328639b256c6169863",
       "version_major": 2,
       "version_minor": 0
      },
      "text/plain": [
       "HBox(children=(HTML(value=''), FloatProgress(value=0.0, max=35.0), HTML(value='')))"
      ]
     },
     "metadata": {},
     "output_type": "display_data"
    },
    {
     "name": "stdout",
     "output_type": "stream",
     "text": [
      "\n",
      "Fit time: 8.77 sec.\n",
      "Get recommendation time: 46.09 sec.\n",
      "\n",
      "Step 105 of 112. Fitting model for factor=175, l_reg=0.05, iterations=10:"
     ]
    },
    {
     "data": {
      "application/vnd.jupyter.widget-view+json": {
       "model_id": "10e4ae11583049a9adf787c66797f864",
       "version_major": 2,
       "version_minor": 0
      },
      "text/plain": [
       "HBox(children=(HTML(value=''), FloatProgress(value=0.0, max=10.0), HTML(value='')))"
      ]
     },
     "metadata": {},
     "output_type": "display_data"
    },
    {
     "name": "stdout",
     "output_type": "stream",
     "text": [
      "\n",
      "Fit time: 2.55 sec.\n",
      "Get recommendation time: 46.01 sec.\n",
      "\n",
      "Step 106 of 112. Fitting model for factor=175, l_reg=0.05, iterations=15:"
     ]
    },
    {
     "data": {
      "application/vnd.jupyter.widget-view+json": {
       "model_id": "1c394d989fa34b24b0d18d69ce1c0247",
       "version_major": 2,
       "version_minor": 0
      },
      "text/plain": [
       "HBox(children=(HTML(value=''), FloatProgress(value=0.0, max=15.0), HTML(value='')))"
      ]
     },
     "metadata": {},
     "output_type": "display_data"
    },
    {
     "name": "stdout",
     "output_type": "stream",
     "text": [
      "\n",
      "Fit time: 3.76 sec.\n",
      "Get recommendation time: 47.32 sec.\n",
      "\n",
      "Step 107 of 112. Fitting model for factor=175, l_reg=0.05, iterations=25:"
     ]
    },
    {
     "data": {
      "application/vnd.jupyter.widget-view+json": {
       "model_id": "713d29730bec413abbe4467c6a25be85",
       "version_major": 2,
       "version_minor": 0
      },
      "text/plain": [
       "HBox(children=(HTML(value=''), FloatProgress(value=0.0, max=25.0), HTML(value='')))"
      ]
     },
     "metadata": {},
     "output_type": "display_data"
    },
    {
     "name": "stdout",
     "output_type": "stream",
     "text": [
      "\n",
      "Fit time: 6.18 sec.\n",
      "Get recommendation time: 45.69 sec.\n",
      "\n",
      "Step 108 of 112. Fitting model for factor=175, l_reg=0.05, iterations=35:"
     ]
    },
    {
     "data": {
      "application/vnd.jupyter.widget-view+json": {
       "model_id": "532cc15ae5ff4c9f8ae99a66855289a7",
       "version_major": 2,
       "version_minor": 0
      },
      "text/plain": [
       "HBox(children=(HTML(value=''), FloatProgress(value=0.0, max=35.0), HTML(value='')))"
      ]
     },
     "metadata": {},
     "output_type": "display_data"
    },
    {
     "name": "stdout",
     "output_type": "stream",
     "text": [
      "\n",
      "Fit time: 8.72 sec.\n",
      "Get recommendation time: 45.07 sec.\n",
      "\n",
      "Step 109 of 112. Fitting model for factor=175, l_reg=0.1, iterations=10:"
     ]
    },
    {
     "data": {
      "application/vnd.jupyter.widget-view+json": {
       "model_id": "619bc301d2fe401892371b9159addad8",
       "version_major": 2,
       "version_minor": 0
      },
      "text/plain": [
       "HBox(children=(HTML(value=''), FloatProgress(value=0.0, max=10.0), HTML(value='')))"
      ]
     },
     "metadata": {},
     "output_type": "display_data"
    },
    {
     "name": "stdout",
     "output_type": "stream",
     "text": [
      "\n",
      "Fit time: 2.5 sec.\n",
      "Get recommendation time: 46.09 sec.\n",
      "\n",
      "Step 110 of 112. Fitting model for factor=175, l_reg=0.1, iterations=15:"
     ]
    },
    {
     "data": {
      "application/vnd.jupyter.widget-view+json": {
       "model_id": "9a67d5bb09714357945380ff1da722e2",
       "version_major": 2,
       "version_minor": 0
      },
      "text/plain": [
       "HBox(children=(HTML(value=''), FloatProgress(value=0.0, max=15.0), HTML(value='')))"
      ]
     },
     "metadata": {},
     "output_type": "display_data"
    },
    {
     "name": "stdout",
     "output_type": "stream",
     "text": [
      "\n",
      "Fit time: 3.9 sec.\n",
      "Get recommendation time: 47.42 sec.\n",
      "\n",
      "Step 111 of 112. Fitting model for factor=175, l_reg=0.1, iterations=25:"
     ]
    },
    {
     "data": {
      "application/vnd.jupyter.widget-view+json": {
       "model_id": "02a4c97564be4a5b92152e03e9a86340",
       "version_major": 2,
       "version_minor": 0
      },
      "text/plain": [
       "HBox(children=(HTML(value=''), FloatProgress(value=0.0, max=25.0), HTML(value='')))"
      ]
     },
     "metadata": {},
     "output_type": "display_data"
    },
    {
     "name": "stdout",
     "output_type": "stream",
     "text": [
      "\n",
      "Fit time: 6.15 sec.\n",
      "Get recommendation time: 46.1 sec.\n",
      "\n",
      "Step 112 of 112. Fitting model for factor=175, l_reg=0.1, iterations=35:"
     ]
    },
    {
     "data": {
      "application/vnd.jupyter.widget-view+json": {
       "model_id": "8b8b417a136b42df849d449e184eef80",
       "version_major": 2,
       "version_minor": 0
      },
      "text/plain": [
       "HBox(children=(HTML(value=''), FloatProgress(value=0.0, max=35.0), HTML(value='')))"
      ]
     },
     "metadata": {},
     "output_type": "display_data"
    },
    {
     "name": "stdout",
     "output_type": "stream",
     "text": [
      "\n",
      "Fit time: 8.66 sec.\n",
      "Get recommendation time: 45.56 sec.\n",
      "\n",
      "                     params  result_train  result_test  fit_time  \\\n",
      "109   als_f-175_lr-0.1_i-15      0.923126     0.169929      3.90   \n",
      "110   als_f-175_lr-0.1_i-25      0.922084     0.173496      6.15   \n",
      "107  als_f-175_lr-0.05_i-35      0.921924     0.172069      8.72   \n",
      "106  als_f-175_lr-0.05_i-25      0.921764     0.175229      6.18   \n",
      "111   als_f-175_lr-0.1_i-35      0.921363     0.173089      8.66   \n",
      "..                      ...           ...          ...       ...   \n",
      "14     als_f-25_lr-0.1_i-25      0.473347     0.106830      3.32   \n",
      "1    als_f-25_lr-0.001_i-15      0.472946     0.106116      2.08   \n",
      "3    als_f-25_lr-0.001_i-35      0.471824     0.103772      4.68   \n",
      "6     als_f-25_lr-0.01_i-25      0.471663     0.106524      3.32   \n",
      "2    als_f-25_lr-0.001_i-25      0.470782     0.103874      3.44   \n",
      "\n",
      "     get_rec_time                                           cv_model  \\\n",
      "109         47.42  <implicit.cpu.als.AlternatingLeastSquares obje...   \n",
      "110         46.10  <implicit.cpu.als.AlternatingLeastSquares obje...   \n",
      "107         45.07  <implicit.cpu.als.AlternatingLeastSquares obje...   \n",
      "106         45.69  <implicit.cpu.als.AlternatingLeastSquares obje...   \n",
      "111         45.56  <implicit.cpu.als.AlternatingLeastSquares obje...   \n",
      "..            ...                                                ...   \n",
      "14          18.31  <implicit.cpu.als.AlternatingLeastSquares obje...   \n",
      "1           20.20  <implicit.cpu.als.AlternatingLeastSquares obje...   \n",
      "3           18.77  <implicit.cpu.als.AlternatingLeastSquares obje...   \n",
      "6           17.85  <implicit.cpu.als.AlternatingLeastSquares obje...   \n",
      "2           18.18  <implicit.cpu.als.AlternatingLeastSquares obje...   \n",
      "\n",
      "                                  model_params  \n",
      "109   {'factor': 175, 'l_reg': 0.1, 'itr': 15}  \n",
      "110   {'factor': 175, 'l_reg': 0.1, 'itr': 25}  \n",
      "107  {'factor': 175, 'l_reg': 0.05, 'itr': 35}  \n",
      "106  {'factor': 175, 'l_reg': 0.05, 'itr': 25}  \n",
      "111   {'factor': 175, 'l_reg': 0.1, 'itr': 35}  \n",
      "..                                         ...  \n",
      "14     {'factor': 25, 'l_reg': 0.1, 'itr': 25}  \n",
      "1    {'factor': 25, 'l_reg': 0.001, 'itr': 15}  \n",
      "3    {'factor': 25, 'l_reg': 0.001, 'itr': 35}  \n",
      "6     {'factor': 25, 'l_reg': 0.01, 'itr': 25}  \n",
      "2    {'factor': 25, 'l_reg': 0.001, 'itr': 25}  \n",
      "\n",
      "[112 rows x 7 columns]\n"
     ]
    },
    {
     "data": {
      "application/vnd.jupyter.widget-view+json": {
       "model_id": "193b26f6644343479f33d57834193af9",
       "version_major": 2,
       "version_minor": 0
      },
      "text/plain": [
       "HBox(children=(HTML(value=''), FloatProgress(value=0.0, max=4001.0), HTML(value='')))"
      ]
     },
     "metadata": {},
     "output_type": "display_data"
    },
    {
     "name": "stdout",
     "output_type": "stream",
     "text": [
      "\n",
      "CPU times: user 4h 10min 42s, sys: 2min 33s, total: 4h 13min 16s\n",
      "Wall time: 1h 3min 50s\n"
     ]
    }
   ],
   "source": [
    "%%time\n",
    "# parameters for grid search\n",
    "params = {'factor': [25, 50, 75, 100, 125, 150, 175], #10 - слишком мало\n",
    "          'l_reg': [0.001, 0.01, 0.05, 0.1],\n",
    "          'itr': [10, 15, 25, 35]\n",
    "         }\n",
    "recommender = MainRecommender(data_train_lvl_1, params)"
   ]
  },
  {
   "cell_type": "code",
   "execution_count": 9,
   "metadata": {
    "id": "frt2RzDWC4Jt",
    "outputId": "7c594abf-4a34-406b-9897-8bfbddf69a93"
   },
   "outputs": [
    {
     "data": {
      "text/html": [
       "<div>\n",
       "<style scoped>\n",
       "    .dataframe tbody tr th:only-of-type {\n",
       "        vertical-align: middle;\n",
       "    }\n",
       "\n",
       "    .dataframe tbody tr th {\n",
       "        vertical-align: top;\n",
       "    }\n",
       "\n",
       "    .dataframe thead th {\n",
       "        text-align: right;\n",
       "    }\n",
       "</style>\n",
       "<table border=\"1\" class=\"dataframe\">\n",
       "  <thead>\n",
       "    <tr style=\"text-align: right;\">\n",
       "      <th></th>\n",
       "      <th>user_id</th>\n",
       "      <th>actual</th>\n",
       "    </tr>\n",
       "  </thead>\n",
       "  <tbody>\n",
       "    <tr>\n",
       "      <th>0</th>\n",
       "      <td>1</td>\n",
       "      <td>[853529, 865456, 867607, 872137, 874905, 87524...</td>\n",
       "    </tr>\n",
       "    <tr>\n",
       "      <th>1</th>\n",
       "      <td>2</td>\n",
       "      <td>[15830248, 838136, 839656, 861272, 866211, 870...</td>\n",
       "    </tr>\n",
       "  </tbody>\n",
       "</table>\n",
       "</div>"
      ],
      "text/plain": [
       "   user_id                                             actual\n",
       "0        1  [853529, 865456, 867607, 872137, 874905, 87524...\n",
       "1        2  [15830248, 838136, 839656, 861272, 866211, 870..."
      ]
     },
     "execution_count": 9,
     "metadata": {},
     "output_type": "execute_result"
    }
   ],
   "source": [
    "result_lvl_1 = data_val_lvl_1.groupby('user_id')['item_id'].unique().reset_index()\n",
    "result_lvl_1.columns=['user_id', 'actual']\n",
    "result_lvl_1.head(2)"
   ]
  },
  {
   "cell_type": "code",
   "execution_count": 10,
   "metadata": {},
   "outputs": [
    {
     "name": "stdout",
     "output_type": "stream",
     "text": [
      "CPU times: user 2min 35s, sys: 1.41 s, total: 2min 36s\n",
      "Wall time: 39 s\n"
     ]
    }
   ],
   "source": [
    "%%time\n",
    "_als_recs = []\n",
    "_own_recs = []\n",
    "_sim_itm_recs = []\n",
    "_sim_usr_recs = []\n",
    "d_recs = dict()\n",
    "for uid in result_lvl_1['user_id']:\n",
    "    try:\n",
    "        _als_recs.append([uid, recommender.get_als_recommendations(uid, N=5)])\n",
    "    except IndexError:\n",
    "        _als_recs.append([uid, []])\n",
    "    try:\n",
    "        _own_recs.append([uid, recommender.get_own_recommendations(uid, N=5)])\n",
    "    except (IndexError, ValueError):\n",
    "        _own_recs.append([uid, []])\n",
    "    try:\n",
    "        _sim_itm_recs.append([uid, recommender.get_similar_items_recommendation(uid, N=5)])\n",
    "    except IndexError:\n",
    "        _sim_itm_recs.append([uid, []])\n",
    "    try:\n",
    "        _sim_usr_recs.append([uid, recommender.get_similar_users_recommendation(uid, N=5)])\n",
    "    except (IndexError, ValueError):\n",
    "        _sim_usr_recs.append([uid, []])\n",
    "d_recs['als'] = _als_recs\n",
    "d_recs['own'] = _own_recs\n",
    "d_recs['sim_itm'] = _sim_itm_recs\n",
    "d_recs['sim_usr'] = _sim_usr_recs\n",
    "als_recs = pd.DataFrame(d_recs['als'], columns=['uid', 'als'])\n",
    "own_recs = pd.DataFrame(d_recs['own'], columns=['uid', 'own'])\n",
    "sim_itm_recs = pd.DataFrame(d_recs['sim_itm'], columns=['uid', 'sim_itm'])\n",
    "sim_usr_recs = pd.DataFrame(d_recs['sim_usr'], columns=['uid', 'sim_usr'])"
   ]
  },
  {
   "cell_type": "code",
   "execution_count": 11,
   "metadata": {},
   "outputs": [],
   "source": [
    "result_lvl_1_als = pd.merge(result_lvl_1, als_recs, left_on='user_id', right_on='uid', how='left')\n",
    "result_lvl_1_als.drop(['uid'], axis=1, inplace=True) \n",
    "\n",
    "result_lvl_1_own = pd.merge(result_lvl_1, own_recs, left_on='user_id', right_on='uid', how='left')\n",
    "result_lvl_1_own.drop(['uid'], axis=1, inplace=True) \n",
    "\n",
    "result_lvl_1_sim_itm = pd.merge(result_lvl_1, sim_itm_recs, left_on='user_id', right_on='uid', how='left')\n",
    "result_lvl_1_sim_itm.drop(['uid'], axis=1, inplace=True) \n",
    "\n",
    "result_lvl_1_sim_usr = pd.merge(result_lvl_1, sim_usr_recs, left_on='user_id', right_on='uid', how='left')\n",
    "result_lvl_1_sim_usr.drop(['uid'], axis=1, inplace=True) "
   ]
  },
  {
   "cell_type": "code",
   "execution_count": 12,
   "metadata": {},
   "outputs": [
    {
     "name": "stdout",
     "output_type": "stream",
     "text": [
      "recall@k-als: 0.012500804161864863\n",
      "precision@k-als: 0.11399349139934825\n",
      "recall@k-own: 0.018946149142845963\n"
     ]
    },
    {
     "name": "stderr",
     "output_type": "stream",
     "text": [
      "/Users/ilmdn/GU_RS/course_work/src/metrics.py:30: RuntimeWarning: invalid value encountered in long_scalars\n",
      "  precision = flags.sum() / recommended_list.size\n"
     ]
    },
    {
     "name": "stdout",
     "output_type": "stream",
     "text": [
      "recall@k-sim-itm: 0.0071301557655890045\n",
      "recall@k-sim-usr: 0.000637689606739862\n"
     ]
    }
   ],
   "source": [
    "print(f\"recall@k-als: {result_lvl_1_als.apply(lambda row: recall_at_k(row['als'], row['actual']), axis=1).mean()}\")\n",
    "print(f\"precision@k-als: {result_lvl_1_als.apply(lambda row: precision_at_k(row['als'], row['actual']), axis=1).mean()}\")\n",
    "print(f\"recall@k-own: {result_lvl_1_own.apply(lambda row: recall_at_k(row['own'], row['actual']), axis=1).mean()}\")\n",
    "print(f\"recall@k-sim-itm: {result_lvl_1_sim_itm.apply(lambda row: recall_at_k(row['sim_itm'], row['actual']), axis=1).mean()}\")\n",
    "print(f\"recall@k-sim-usr: {result_lvl_1_sim_usr.apply(lambda row: recall_at_k(row['sim_usr'], row['actual']), axis=1).mean()}\")"
   ]
  },
  {
   "cell_type": "code",
   "execution_count": 13,
   "metadata": {},
   "outputs": [],
   "source": [
    "result_lvl_1_als['recall@k-als'] = result_lvl_1_als.apply(lambda row: recall_at_k(row['als'], row['actual']), axis=1)\n",
    "result_lvl_1_als.sort_values('recall@k-als', ascending=False, inplace=True)\n",
    "#result_lvl_1_als_top = result_lvl_1_als.head(50)\n",
    "\n",
    "result_lvl_1_als['precision@k-als'] = result_lvl_1_als.apply(lambda row: precision_at_k(row['als'], row['actual']), axis=1)\n",
    "#result_lvl_1_als.sort_values('precision@k-als', ascending=False, inplace=True)\n",
    "result_lvl_1_als_top = result_lvl_1_als.head(50)\n",
    "\n",
    "result_lvl_1_own['recall@k-own'] = result_lvl_1_own.apply(lambda row: recall_at_k(row['own'], row['actual']), axis=1)\n",
    "result_lvl_1_own.sort_values('recall@k-own', ascending=False, inplace=True)\n",
    "result_lvl_1_own_top = result_lvl_1_own.head(50)\n",
    "\n",
    "result_lvl_1_sim_itm['recall@k-sim-itm'] = result_lvl_1_sim_itm.apply(lambda row: recall_at_k(row['sim_itm'], row['actual']), axis=1)\n",
    "result_lvl_1_sim_itm.sort_values('recall@k-sim-itm', ascending=False, inplace=True)\n",
    "result_lvl_1_sim_itm_top = result_lvl_1_sim_itm.head(50)\n",
    "\n",
    "result_lvl_1_sim_usr['recall@k-sim-usr'] = result_lvl_1_sim_usr.apply(lambda row: recall_at_k(row['sim_usr'], row['actual']), axis=1)\n",
    "result_lvl_1_sim_usr.sort_values('recall@k-sim-usr', ascending=False, inplace=True)\n",
    "result_lvl_1_sim_usr_top = result_lvl_1_sim_usr.head(50)"
   ]
  },
  {
   "cell_type": "code",
   "execution_count": 17,
   "metadata": {},
   "outputs": [
    {
     "data": {
      "text/html": [
       "<div>\n",
       "<style scoped>\n",
       "    .dataframe tbody tr th:only-of-type {\n",
       "        vertical-align: middle;\n",
       "    }\n",
       "\n",
       "    .dataframe tbody tr th {\n",
       "        vertical-align: top;\n",
       "    }\n",
       "\n",
       "    .dataframe thead th {\n",
       "        text-align: right;\n",
       "    }\n",
       "</style>\n",
       "<table border=\"1\" class=\"dataframe\">\n",
       "  <thead>\n",
       "    <tr style=\"text-align: right;\">\n",
       "      <th></th>\n",
       "      <th>user_id</th>\n",
       "      <th>actual</th>\n",
       "      <th>als</th>\n",
       "      <th>recall@k-als</th>\n",
       "      <th>precision@k-als</th>\n",
       "    </tr>\n",
       "  </thead>\n",
       "  <tbody>\n",
       "    <tr>\n",
       "      <th>501</th>\n",
       "      <td>589</td>\n",
       "      <td>[5569230]</td>\n",
       "      <td>[5569230, 1102845, 832442, 1072693, 1021324]</td>\n",
       "      <td>1.0</td>\n",
       "      <td>0.2</td>\n",
       "    </tr>\n",
       "    <tr>\n",
       "      <th>2095</th>\n",
       "      <td>2433</td>\n",
       "      <td>[1082185, 9268695]</td>\n",
       "      <td>[1082185, 965267, 1026118, 919681, 831557]</td>\n",
       "      <td>0.5</td>\n",
       "      <td>0.2</td>\n",
       "    </tr>\n",
       "    <tr>\n",
       "      <th>1074</th>\n",
       "      <td>1251</td>\n",
       "      <td>[879948, 901067]</td>\n",
       "      <td>[901067, 5569172, 10285022, 1048373, 880888]</td>\n",
       "      <td>0.5</td>\n",
       "      <td>0.2</td>\n",
       "    </tr>\n",
       "    <tr>\n",
       "      <th>2090</th>\n",
       "      <td>2428</td>\n",
       "      <td>[944486, 6533681]</td>\n",
       "      <td>[996444, 6533681, 924531, 1053329, 1020604]</td>\n",
       "      <td>0.5</td>\n",
       "      <td>0.2</td>\n",
       "    </tr>\n",
       "    <tr>\n",
       "      <th>1270</th>\n",
       "      <td>1477</td>\n",
       "      <td>[961979, 1029743]</td>\n",
       "      <td>[9926758, 961979, 1125278, 986912, 999250]</td>\n",
       "      <td>0.5</td>\n",
       "      <td>0.2</td>\n",
       "    </tr>\n",
       "  </tbody>\n",
       "</table>\n",
       "</div>"
      ],
      "text/plain": [
       "      user_id              actual  \\\n",
       "501       589           [5569230]   \n",
       "2095     2433  [1082185, 9268695]   \n",
       "1074     1251    [879948, 901067]   \n",
       "2090     2428   [944486, 6533681]   \n",
       "1270     1477   [961979, 1029743]   \n",
       "\n",
       "                                               als  recall@k-als  \\\n",
       "501   [5569230, 1102845, 832442, 1072693, 1021324]           1.0   \n",
       "2095    [1082185, 965267, 1026118, 919681, 831557]           0.5   \n",
       "1074  [901067, 5569172, 10285022, 1048373, 880888]           0.5   \n",
       "2090   [996444, 6533681, 924531, 1053329, 1020604]           0.5   \n",
       "1270    [9926758, 961979, 1125278, 986912, 999250]           0.5   \n",
       "\n",
       "      precision@k-als  \n",
       "501               0.2  \n",
       "2095              0.2  \n",
       "1074              0.2  \n",
       "2090              0.2  \n",
       "1270              0.2  "
      ]
     },
     "execution_count": 17,
     "metadata": {},
     "output_type": "execute_result"
    }
   ],
   "source": [
    "result_lvl_1_als_top.head()"
   ]
  },
  {
   "cell_type": "code",
   "execution_count": 15,
   "metadata": {},
   "outputs": [
    {
     "name": "stdout",
     "output_type": "stream",
     "text": [
      "recall@k-als-top: 0.19188297063008902\n",
      "recall@k-own-top: 0.2627805661771177\n",
      "recall@k-sim-itm-top: 0.14559079685996795\n",
      "recall@k-sim-usr-top: 0.02747166825835325\n"
     ]
    }
   ],
   "source": [
    "print(f\"recall@k-als-top: {result_lvl_1_als.head(50).apply(lambda row: recall_at_k(row['als'], row['actual']), axis=1).mean()}\")\n",
    "print(f\"recall@k-own-top: {result_lvl_1_own.head(50).apply(lambda row: recall_at_k(row['own'], row['actual']), axis=1).mean()}\")\n",
    "print(f\"recall@k-sim-itm-top: {result_lvl_1_sim_itm.head(50).apply(lambda row: recall_at_k(row['sim_itm'], row['actual']), axis=1).mean()}\")\n",
    "print(f\"recall@k-sim-usr-top: {result_lvl_1_sim_usr.head(50).apply(lambda row: recall_at_k(row['sim_usr'], row['actual']), axis=1).mean()}\")"
   ]
  },
  {
   "cell_type": "code",
   "execution_count": 16,
   "metadata": {},
   "outputs": [],
   "source": [
    "recs_output = result_lvl_1_als.copy()\n",
    "recs_output.drop(['actual', 'recall@k-als', 'precision@k-als'], axis=1, inplace=True)\n",
    "recs_output.sort_index(inplace=True)\n",
    "recs_output.rename(columns={'als': 'recommendations'}, inplace=True)\n",
    "recs_output.to_csv('recommendations_als.csv')"
   ]
  },
  {
   "cell_type": "markdown",
   "metadata": {
    "id": "bAHJu3Z5C4Ju"
   },
   "source": [
    "### Задание 2.\n",
    "\n",
    "Обучите модель 2-ого уровня, при этом:<br>\n",
    "    - Добавьте минимум по 2 фичи для юзера, товара и пары юзер-товар<br>\n",
    "    - Измерьте отдельно precision@5 модели 1-ого уровня и двухуровневой модели на data_val_lvl_2<br>\n",
    "    - Вырос ли precision@5 при использовании двухуровневой модели?"
   ]
  },
  {
   "cell_type": "code",
   "execution_count": 18,
   "metadata": {
    "id": "XZQcrch7C4Ju"
   },
   "outputs": [],
   "source": [
    "users_lvl_2 = pd.DataFrame(data_train_lvl_2['user_id'].unique())\n",
    "users_lvl_2.columns = ['user_id']\n",
    "\n",
    "# Пока только warm start\n",
    "train_users = result_lvl_1_als_top['user_id'].unique()\n",
    "users_lvl_2 = users_lvl_2[users_lvl_2['user_id'].isin(train_users)]\n",
    "\n",
    "users_lvl_2['candidates'] = users_lvl_2['user_id'].apply(lambda x: recommender.get_own_recommendations(x, N=50))"
   ]
  },
  {
   "cell_type": "code",
   "execution_count": 19,
   "metadata": {},
   "outputs": [
    {
     "data": {
      "text/html": [
       "<div>\n",
       "<style scoped>\n",
       "    .dataframe tbody tr th:only-of-type {\n",
       "        vertical-align: middle;\n",
       "    }\n",
       "\n",
       "    .dataframe tbody tr th {\n",
       "        vertical-align: top;\n",
       "    }\n",
       "\n",
       "    .dataframe thead th {\n",
       "        text-align: right;\n",
       "    }\n",
       "</style>\n",
       "<table border=\"1\" class=\"dataframe\">\n",
       "  <thead>\n",
       "    <tr style=\"text-align: right;\">\n",
       "      <th></th>\n",
       "      <th>user_id</th>\n",
       "      <th>candidates</th>\n",
       "    </tr>\n",
       "  </thead>\n",
       "  <tbody>\n",
       "    <tr>\n",
       "      <th>159</th>\n",
       "      <td>930</td>\n",
       "      <td>[917033, 1016800, 1050741, 854716, 851188, 801...</td>\n",
       "    </tr>\n",
       "    <tr>\n",
       "      <th>215</th>\n",
       "      <td>1449</td>\n",
       "      <td>[918046, 6463710, 9365106, 1004385, 861246, 74...</td>\n",
       "    </tr>\n",
       "  </tbody>\n",
       "</table>\n",
       "</div>"
      ],
      "text/plain": [
       "     user_id                                         candidates\n",
       "159      930  [917033, 1016800, 1050741, 854716, 851188, 801...\n",
       "215     1449  [918046, 6463710, 9365106, 1004385, 861246, 74..."
      ]
     },
     "execution_count": 19,
     "metadata": {},
     "output_type": "execute_result"
    }
   ],
   "source": [
    "users_lvl_2.head(2)"
   ]
  },
  {
   "cell_type": "code",
   "execution_count": 20,
   "metadata": {},
   "outputs": [
    {
     "data": {
      "text/html": [
       "<div>\n",
       "<style scoped>\n",
       "    .dataframe tbody tr th:only-of-type {\n",
       "        vertical-align: middle;\n",
       "    }\n",
       "\n",
       "    .dataframe tbody tr th {\n",
       "        vertical-align: top;\n",
       "    }\n",
       "\n",
       "    .dataframe thead th {\n",
       "        text-align: right;\n",
       "    }\n",
       "</style>\n",
       "<table border=\"1\" class=\"dataframe\">\n",
       "  <thead>\n",
       "    <tr style=\"text-align: right;\">\n",
       "      <th></th>\n",
       "      <th>user_id</th>\n",
       "      <th>item_id</th>\n",
       "      <th>flag</th>\n",
       "    </tr>\n",
       "  </thead>\n",
       "  <tbody>\n",
       "    <tr>\n",
       "      <th>159</th>\n",
       "      <td>930</td>\n",
       "      <td>917033</td>\n",
       "      <td>1</td>\n",
       "    </tr>\n",
       "    <tr>\n",
       "      <th>159</th>\n",
       "      <td>930</td>\n",
       "      <td>1016800</td>\n",
       "      <td>1</td>\n",
       "    </tr>\n",
       "    <tr>\n",
       "      <th>159</th>\n",
       "      <td>930</td>\n",
       "      <td>1050741</td>\n",
       "      <td>1</td>\n",
       "    </tr>\n",
       "    <tr>\n",
       "      <th>159</th>\n",
       "      <td>930</td>\n",
       "      <td>854716</td>\n",
       "      <td>1</td>\n",
       "    </tr>\n",
       "  </tbody>\n",
       "</table>\n",
       "</div>"
      ],
      "text/plain": [
       "     user_id  item_id  flag\n",
       "159      930   917033     1\n",
       "159      930  1016800     1\n",
       "159      930  1050741     1\n",
       "159      930   854716     1"
      ]
     },
     "execution_count": 20,
     "metadata": {},
     "output_type": "execute_result"
    }
   ],
   "source": [
    "s = users_lvl_2.apply(lambda x: pd.Series(x['candidates']), axis=1).stack().reset_index(level=1, drop=True)\n",
    "s.name = 'item_id'\n",
    "\n",
    "users_lvl_2 = users_lvl_2.drop('candidates', axis=1).join(s)\n",
    "users_lvl_2['flag'] = 1\n",
    "\n",
    "users_lvl_2.head(4)"
   ]
  },
  {
   "cell_type": "code",
   "execution_count": 21,
   "metadata": {},
   "outputs": [
    {
     "data": {
      "text/plain": [
       "2500"
      ]
     },
     "execution_count": 21,
     "metadata": {},
     "output_type": "execute_result"
    }
   ],
   "source": [
    "users_lvl_2.shape[0]"
   ]
  },
  {
   "cell_type": "code",
   "execution_count": 22,
   "metadata": {},
   "outputs": [
    {
     "data": {
      "text/plain": [
       "50"
      ]
     },
     "execution_count": 22,
     "metadata": {},
     "output_type": "execute_result"
    }
   ],
   "source": [
    "users_lvl_2['user_id'].nunique()"
   ]
  },
  {
   "cell_type": "code",
   "execution_count": 23,
   "metadata": {},
   "outputs": [],
   "source": [
    "targets_lvl_2 = data_train_lvl_2[['user_id', 'item_id']].copy()\n",
    "targets_lvl_2['target'] = 1  # тут только покупки \n",
    "\n",
    "targets_lvl_2 = users_lvl_2.merge(targets_lvl_2, on=['user_id', 'item_id'], how='left')\n",
    "\n",
    "targets_lvl_2['target'].fillna(0, inplace= True)\n",
    "targets_lvl_2.drop('flag', axis=1, inplace=True)"
   ]
  },
  {
   "cell_type": "code",
   "execution_count": 24,
   "metadata": {},
   "outputs": [
    {
     "data": {
      "text/html": [
       "<div>\n",
       "<style scoped>\n",
       "    .dataframe tbody tr th:only-of-type {\n",
       "        vertical-align: middle;\n",
       "    }\n",
       "\n",
       "    .dataframe tbody tr th {\n",
       "        vertical-align: top;\n",
       "    }\n",
       "\n",
       "    .dataframe thead th {\n",
       "        text-align: right;\n",
       "    }\n",
       "</style>\n",
       "<table border=\"1\" class=\"dataframe\">\n",
       "  <thead>\n",
       "    <tr style=\"text-align: right;\">\n",
       "      <th></th>\n",
       "      <th>user_id</th>\n",
       "      <th>item_id</th>\n",
       "      <th>target</th>\n",
       "    </tr>\n",
       "  </thead>\n",
       "  <tbody>\n",
       "    <tr>\n",
       "      <th>0</th>\n",
       "      <td>930</td>\n",
       "      <td>917033</td>\n",
       "      <td>0.0</td>\n",
       "    </tr>\n",
       "    <tr>\n",
       "      <th>1</th>\n",
       "      <td>930</td>\n",
       "      <td>1016800</td>\n",
       "      <td>0.0</td>\n",
       "    </tr>\n",
       "  </tbody>\n",
       "</table>\n",
       "</div>"
      ],
      "text/plain": [
       "   user_id  item_id  target\n",
       "0      930   917033     0.0\n",
       "1      930  1016800     0.0"
      ]
     },
     "execution_count": 24,
     "metadata": {},
     "output_type": "execute_result"
    }
   ],
   "source": [
    "targets_lvl_2.head(2)"
   ]
  },
  {
   "cell_type": "code",
   "execution_count": 25,
   "metadata": {},
   "outputs": [
    {
     "data": {
      "text/plain": [
       "0.06551588858375834"
      ]
     },
     "execution_count": 25,
     "metadata": {},
     "output_type": "execute_result"
    }
   ],
   "source": [
    "targets_lvl_2['target'].mean()"
   ]
  },
  {
   "cell_type": "code",
   "execution_count": 26,
   "metadata": {},
   "outputs": [
    {
     "data": {
      "text/html": [
       "<div>\n",
       "<style scoped>\n",
       "    .dataframe tbody tr th:only-of-type {\n",
       "        vertical-align: middle;\n",
       "    }\n",
       "\n",
       "    .dataframe tbody tr th {\n",
       "        vertical-align: top;\n",
       "    }\n",
       "\n",
       "    .dataframe thead th {\n",
       "        text-align: right;\n",
       "    }\n",
       "</style>\n",
       "<table border=\"1\" class=\"dataframe\">\n",
       "  <thead>\n",
       "    <tr style=\"text-align: right;\">\n",
       "      <th></th>\n",
       "      <th>item_id</th>\n",
       "      <th>manufacturer</th>\n",
       "      <th>department</th>\n",
       "      <th>brand</th>\n",
       "      <th>commodity_desc</th>\n",
       "      <th>sub_commodity_desc</th>\n",
       "      <th>curr_size_of_product</th>\n",
       "    </tr>\n",
       "  </thead>\n",
       "  <tbody>\n",
       "    <tr>\n",
       "      <th>0</th>\n",
       "      <td>25671</td>\n",
       "      <td>2</td>\n",
       "      <td>GROCERY</td>\n",
       "      <td>National</td>\n",
       "      <td>FRZN ICE</td>\n",
       "      <td>ICE - CRUSHED/CUBED</td>\n",
       "      <td>22 LB</td>\n",
       "    </tr>\n",
       "    <tr>\n",
       "      <th>1</th>\n",
       "      <td>26081</td>\n",
       "      <td>2</td>\n",
       "      <td>MISC. TRANS.</td>\n",
       "      <td>National</td>\n",
       "      <td>NO COMMODITY DESCRIPTION</td>\n",
       "      <td>NO SUBCOMMODITY DESCRIPTION</td>\n",
       "      <td></td>\n",
       "    </tr>\n",
       "  </tbody>\n",
       "</table>\n",
       "</div>"
      ],
      "text/plain": [
       "   item_id  manufacturer    department     brand            commodity_desc  \\\n",
       "0    25671             2       GROCERY  National                  FRZN ICE   \n",
       "1    26081             2  MISC. TRANS.  National  NO COMMODITY DESCRIPTION   \n",
       "\n",
       "            sub_commodity_desc curr_size_of_product  \n",
       "0          ICE - CRUSHED/CUBED                22 LB  \n",
       "1  NO SUBCOMMODITY DESCRIPTION                       "
      ]
     },
     "execution_count": 26,
     "metadata": {},
     "output_type": "execute_result"
    }
   ],
   "source": [
    "item_features.head(2)"
   ]
  },
  {
   "cell_type": "code",
   "execution_count": 27,
   "metadata": {},
   "outputs": [
    {
     "data": {
      "text/html": [
       "<div>\n",
       "<style scoped>\n",
       "    .dataframe tbody tr th:only-of-type {\n",
       "        vertical-align: middle;\n",
       "    }\n",
       "\n",
       "    .dataframe tbody tr th {\n",
       "        vertical-align: top;\n",
       "    }\n",
       "\n",
       "    .dataframe thead th {\n",
       "        text-align: right;\n",
       "    }\n",
       "</style>\n",
       "<table border=\"1\" class=\"dataframe\">\n",
       "  <thead>\n",
       "    <tr style=\"text-align: right;\">\n",
       "      <th></th>\n",
       "      <th>age_desc</th>\n",
       "      <th>marital_status_code</th>\n",
       "      <th>income_desc</th>\n",
       "      <th>homeowner_desc</th>\n",
       "      <th>hh_comp_desc</th>\n",
       "      <th>household_size_desc</th>\n",
       "      <th>kid_category_desc</th>\n",
       "      <th>user_id</th>\n",
       "    </tr>\n",
       "  </thead>\n",
       "  <tbody>\n",
       "    <tr>\n",
       "      <th>0</th>\n",
       "      <td>65+</td>\n",
       "      <td>A</td>\n",
       "      <td>35-49K</td>\n",
       "      <td>Homeowner</td>\n",
       "      <td>2 Adults No Kids</td>\n",
       "      <td>2</td>\n",
       "      <td>None/Unknown</td>\n",
       "      <td>1</td>\n",
       "    </tr>\n",
       "    <tr>\n",
       "      <th>1</th>\n",
       "      <td>45-54</td>\n",
       "      <td>A</td>\n",
       "      <td>50-74K</td>\n",
       "      <td>Homeowner</td>\n",
       "      <td>2 Adults No Kids</td>\n",
       "      <td>2</td>\n",
       "      <td>None/Unknown</td>\n",
       "      <td>7</td>\n",
       "    </tr>\n",
       "  </tbody>\n",
       "</table>\n",
       "</div>"
      ],
      "text/plain": [
       "  age_desc marital_status_code income_desc homeowner_desc      hh_comp_desc  \\\n",
       "0      65+                   A      35-49K      Homeowner  2 Adults No Kids   \n",
       "1    45-54                   A      50-74K      Homeowner  2 Adults No Kids   \n",
       "\n",
       "  household_size_desc kid_category_desc  user_id  \n",
       "0                   2      None/Unknown        1  \n",
       "1                   2      None/Unknown        7  "
      ]
     },
     "execution_count": 27,
     "metadata": {},
     "output_type": "execute_result"
    }
   ],
   "source": [
    "user_features.head(2)"
   ]
  },
  {
   "cell_type": "code",
   "execution_count": 28,
   "metadata": {},
   "outputs": [
    {
     "data": {
      "text/html": [
       "<div>\n",
       "<style scoped>\n",
       "    .dataframe tbody tr th:only-of-type {\n",
       "        vertical-align: middle;\n",
       "    }\n",
       "\n",
       "    .dataframe tbody tr th {\n",
       "        vertical-align: top;\n",
       "    }\n",
       "\n",
       "    .dataframe thead th {\n",
       "        text-align: right;\n",
       "    }\n",
       "</style>\n",
       "<table border=\"1\" class=\"dataframe\">\n",
       "  <thead>\n",
       "    <tr style=\"text-align: right;\">\n",
       "      <th></th>\n",
       "      <th>user_id</th>\n",
       "      <th>item_id</th>\n",
       "      <th>target</th>\n",
       "      <th>manufacturer</th>\n",
       "      <th>department</th>\n",
       "      <th>brand</th>\n",
       "      <th>commodity_desc</th>\n",
       "      <th>sub_commodity_desc</th>\n",
       "      <th>curr_size_of_product</th>\n",
       "      <th>age_desc</th>\n",
       "      <th>marital_status_code</th>\n",
       "      <th>income_desc</th>\n",
       "      <th>homeowner_desc</th>\n",
       "      <th>hh_comp_desc</th>\n",
       "      <th>household_size_desc</th>\n",
       "      <th>kid_category_desc</th>\n",
       "    </tr>\n",
       "  </thead>\n",
       "  <tbody>\n",
       "    <tr>\n",
       "      <th>0</th>\n",
       "      <td>930</td>\n",
       "      <td>917033</td>\n",
       "      <td>0.0</td>\n",
       "      <td>103</td>\n",
       "      <td>GROCERY</td>\n",
       "      <td>National</td>\n",
       "      <td>SOFT DRINKS</td>\n",
       "      <td>SOFT DRINKS 12/18&amp;15PK CAN CAR</td>\n",
       "      <td>12 OZ</td>\n",
       "      <td>NaN</td>\n",
       "      <td>NaN</td>\n",
       "      <td>NaN</td>\n",
       "      <td>NaN</td>\n",
       "      <td>NaN</td>\n",
       "      <td>NaN</td>\n",
       "      <td>NaN</td>\n",
       "    </tr>\n",
       "    <tr>\n",
       "      <th>1</th>\n",
       "      <td>930</td>\n",
       "      <td>1016800</td>\n",
       "      <td>0.0</td>\n",
       "      <td>103</td>\n",
       "      <td>GROCERY</td>\n",
       "      <td>National</td>\n",
       "      <td>SOFT DRINKS</td>\n",
       "      <td>SOFT DRINKS 12/18&amp;15PK CAN CAR</td>\n",
       "      <td>12 OZ</td>\n",
       "      <td>NaN</td>\n",
       "      <td>NaN</td>\n",
       "      <td>NaN</td>\n",
       "      <td>NaN</td>\n",
       "      <td>NaN</td>\n",
       "      <td>NaN</td>\n",
       "      <td>NaN</td>\n",
       "    </tr>\n",
       "    <tr>\n",
       "      <th>2</th>\n",
       "      <td>930</td>\n",
       "      <td>1050741</td>\n",
       "      <td>1.0</td>\n",
       "      <td>103</td>\n",
       "      <td>GROCERY</td>\n",
       "      <td>National</td>\n",
       "      <td>SOFT DRINKS</td>\n",
       "      <td>SOFT DRINKS 20PK&amp;24PK CAN CARB</td>\n",
       "      <td>12 OZ</td>\n",
       "      <td>NaN</td>\n",
       "      <td>NaN</td>\n",
       "      <td>NaN</td>\n",
       "      <td>NaN</td>\n",
       "      <td>NaN</td>\n",
       "      <td>NaN</td>\n",
       "      <td>NaN</td>\n",
       "    </tr>\n",
       "    <tr>\n",
       "      <th>3</th>\n",
       "      <td>930</td>\n",
       "      <td>1050741</td>\n",
       "      <td>1.0</td>\n",
       "      <td>103</td>\n",
       "      <td>GROCERY</td>\n",
       "      <td>National</td>\n",
       "      <td>SOFT DRINKS</td>\n",
       "      <td>SOFT DRINKS 20PK&amp;24PK CAN CARB</td>\n",
       "      <td>12 OZ</td>\n",
       "      <td>NaN</td>\n",
       "      <td>NaN</td>\n",
       "      <td>NaN</td>\n",
       "      <td>NaN</td>\n",
       "      <td>NaN</td>\n",
       "      <td>NaN</td>\n",
       "      <td>NaN</td>\n",
       "    </tr>\n",
       "    <tr>\n",
       "      <th>4</th>\n",
       "      <td>930</td>\n",
       "      <td>854716</td>\n",
       "      <td>0.0</td>\n",
       "      <td>2</td>\n",
       "      <td>GROCERY</td>\n",
       "      <td>National</td>\n",
       "      <td>SOFT DRINKS</td>\n",
       "      <td>SOFT DRINKS 20PK&amp;24PK CAN CARB</td>\n",
       "      <td>12 OZ</td>\n",
       "      <td>NaN</td>\n",
       "      <td>NaN</td>\n",
       "      <td>NaN</td>\n",
       "      <td>NaN</td>\n",
       "      <td>NaN</td>\n",
       "      <td>NaN</td>\n",
       "      <td>NaN</td>\n",
       "    </tr>\n",
       "  </tbody>\n",
       "</table>\n",
       "</div>"
      ],
      "text/plain": [
       "   user_id  item_id  target  manufacturer department     brand commodity_desc  \\\n",
       "0      930   917033     0.0           103    GROCERY  National    SOFT DRINKS   \n",
       "1      930  1016800     0.0           103    GROCERY  National    SOFT DRINKS   \n",
       "2      930  1050741     1.0           103    GROCERY  National    SOFT DRINKS   \n",
       "3      930  1050741     1.0           103    GROCERY  National    SOFT DRINKS   \n",
       "4      930   854716     0.0             2    GROCERY  National    SOFT DRINKS   \n",
       "\n",
       "               sub_commodity_desc curr_size_of_product age_desc  \\\n",
       "0  SOFT DRINKS 12/18&15PK CAN CAR                12 OZ      NaN   \n",
       "1  SOFT DRINKS 12/18&15PK CAN CAR                12 OZ      NaN   \n",
       "2  SOFT DRINKS 20PK&24PK CAN CARB                12 OZ      NaN   \n",
       "3  SOFT DRINKS 20PK&24PK CAN CARB                12 OZ      NaN   \n",
       "4  SOFT DRINKS 20PK&24PK CAN CARB                12 OZ      NaN   \n",
       "\n",
       "  marital_status_code income_desc homeowner_desc hh_comp_desc  \\\n",
       "0                 NaN         NaN            NaN          NaN   \n",
       "1                 NaN         NaN            NaN          NaN   \n",
       "2                 NaN         NaN            NaN          NaN   \n",
       "3                 NaN         NaN            NaN          NaN   \n",
       "4                 NaN         NaN            NaN          NaN   \n",
       "\n",
       "  household_size_desc kid_category_desc  \n",
       "0                 NaN               NaN  \n",
       "1                 NaN               NaN  \n",
       "2                 NaN               NaN  \n",
       "3                 NaN               NaN  \n",
       "4                 NaN               NaN  "
      ]
     },
     "execution_count": 28,
     "metadata": {},
     "output_type": "execute_result"
    }
   ],
   "source": [
    "targets_lvl_2 = targets_lvl_2.merge(item_features, on='item_id', how='left')\n",
    "targets_lvl_2 = targets_lvl_2.merge(user_features, on='user_id', how='left')\n",
    "\n",
    "targets_lvl_2.head()"
   ]
  },
  {
   "cell_type": "code",
   "execution_count": 29,
   "metadata": {},
   "outputs": [],
   "source": [
    "X_train = targets_lvl_2.drop('target', axis=1)\n",
    "y_train = targets_lvl_2[['target']]"
   ]
  },
  {
   "cell_type": "code",
   "execution_count": 30,
   "metadata": {},
   "outputs": [
    {
     "data": {
      "text/plain": [
       "['manufacturer',\n",
       " 'department',\n",
       " 'brand',\n",
       " 'commodity_desc',\n",
       " 'sub_commodity_desc',\n",
       " 'curr_size_of_product',\n",
       " 'age_desc',\n",
       " 'marital_status_code',\n",
       " 'income_desc',\n",
       " 'homeowner_desc',\n",
       " 'hh_comp_desc',\n",
       " 'household_size_desc',\n",
       " 'kid_category_desc']"
      ]
     },
     "execution_count": 30,
     "metadata": {},
     "output_type": "execute_result"
    }
   ],
   "source": [
    "cat_feats = X_train.columns[2:].tolist()\n",
    "X_train[cat_feats] = X_train[cat_feats].astype('category')\n",
    "\n",
    "cat_feats"
   ]
  },
  {
   "cell_type": "code",
   "execution_count": 2,
   "metadata": {},
   "outputs": [
    {
     "ename": "NameError",
     "evalue": "name 'LGBMClassifier' is not defined",
     "output_type": "error",
     "traceback": [
      "\u001b[0;31m---------------------------------------------------------------------------\u001b[0m",
      "\u001b[0;31mNameError\u001b[0m                                 Traceback (most recent call last)",
      "\u001b[0;32m<ipython-input-2-f8df193922c8>\u001b[0m in \u001b[0;36m<module>\u001b[0;34m\u001b[0m\n\u001b[0;32m----> 1\u001b[0;31m \u001b[0mlgb\u001b[0m \u001b[0;34m=\u001b[0m \u001b[0mLGBMClassifier\u001b[0m\u001b[0;34m(\u001b[0m\u001b[0mobjective\u001b[0m\u001b[0;34m=\u001b[0m\u001b[0;34m'binary'\u001b[0m\u001b[0;34m,\u001b[0m \u001b[0mmax_depth\u001b[0m\u001b[0;34m=\u001b[0m\u001b[0;36m7\u001b[0m\u001b[0;34m,\u001b[0m \u001b[0mcategorical_column\u001b[0m\u001b[0;34m=\u001b[0m\u001b[0mcat_feats\u001b[0m\u001b[0;34m)\u001b[0m\u001b[0;34m\u001b[0m\u001b[0;34m\u001b[0m\u001b[0m\n\u001b[0m\u001b[1;32m      2\u001b[0m \u001b[0mlgb\u001b[0m\u001b[0;34m.\u001b[0m\u001b[0mfit\u001b[0m\u001b[0;34m(\u001b[0m\u001b[0mX_train\u001b[0m\u001b[0;34m,\u001b[0m \u001b[0my_train\u001b[0m\u001b[0;34m)\u001b[0m\u001b[0;34m\u001b[0m\u001b[0;34m\u001b[0m\u001b[0m\n\u001b[1;32m      3\u001b[0m \u001b[0;34m\u001b[0m\u001b[0m\n\u001b[1;32m      4\u001b[0m \u001b[0mtrain_preds\u001b[0m \u001b[0;34m=\u001b[0m \u001b[0mlgb\u001b[0m\u001b[0;34m.\u001b[0m\u001b[0mpredict\u001b[0m\u001b[0;34m(\u001b[0m\u001b[0mX_train\u001b[0m\u001b[0;34m)\u001b[0m\u001b[0;34m\u001b[0m\u001b[0;34m\u001b[0m\u001b[0m\n",
      "\u001b[0;31mNameError\u001b[0m: name 'LGBMClassifier' is not defined"
     ]
    }
   ],
   "source": [
    "lgb = LGBMClassifier(objective='binary', max_depth=7, categorical_column=cat_feats)\n",
    "lgb.fit(X_train, y_train)\n",
    "\n",
    "train_preds = lgb.predict(X_train)"
   ]
  },
  {
   "cell_type": "code",
   "execution_count": 1,
   "metadata": {},
   "outputs": [
    {
     "ename": "NameError",
     "evalue": "name 'X_train' is not defined",
     "output_type": "error",
     "traceback": [
      "\u001b[0;31m---------------------------------------------------------------------------\u001b[0m",
      "\u001b[0;31mNameError\u001b[0m                                 Traceback (most recent call last)",
      "\u001b[0;32m<ipython-input-1-931765772341>\u001b[0m in \u001b[0;36m<module>\u001b[0;34m\u001b[0m\n\u001b[0;32m----> 1\u001b[0;31m \u001b[0mX_train\u001b[0m\u001b[0;34m\u001b[0m\u001b[0;34m\u001b[0m\u001b[0m\n\u001b[0m",
      "\u001b[0;31mNameError\u001b[0m: name 'X_train' is not defined"
     ]
    }
   ],
   "source": [
    "X_train"
   ]
  },
  {
   "cell_type": "code",
   "execution_count": null,
   "metadata": {},
   "outputs": [],
   "source": [
    "len(train_preds)"
   ]
  },
  {
   "cell_type": "code",
   "execution_count": null,
   "metadata": {},
   "outputs": [],
   "source": [
    "result_lvl_2 = data_val_lvl_2.groupby('user_id')['item_id'].unique().reset_index()\n",
    "result_lvl_2.columns=['user_id', 'actual']\n",
    "result_lvl_2.head(2)"
   ]
  },
  {
   "cell_type": "code",
   "execution_count": null,
   "metadata": {},
   "outputs": [],
   "source": [
    "%%time\n",
    "_own_recs_2 = []\n",
    "d_recs_2 = dict()\n",
    "for uid in result_lvl_2['user_id']:\n",
    "    try:\n",
    "        _own_recs_2.append([uid, recommender.get_own_recommendations(uid, N=5)])\n",
    "    except (IndexError, ValueError):\n",
    "        _own_recs_2.append([uid, []])\n",
    "d_recs_2['own2'] = _own_recs_2\n",
    "own_recs_2 = pd.DataFrame(d_recs_2['own2'], columns=['uid', 'own2'])"
   ]
  },
  {
   "cell_type": "code",
   "execution_count": null,
   "metadata": {},
   "outputs": [],
   "source": [
    "result_lvl_2_own = pd.merge(result_lvl_2, own_recs_2, left_on='user_id', right_on='uid', how='left')\n",
    "result_lvl_2_own.drop(['uid'], axis=1, inplace=True)\n",
    "#result_lvl_2_own.replace(np.NaN, '[]', inplace=True)"
   ]
  },
  {
   "cell_type": "code",
   "execution_count": null,
   "metadata": {},
   "outputs": [],
   "source": [
    "result_lvl_2_own"
   ]
  },
  {
   "cell_type": "code",
   "execution_count": null,
   "metadata": {},
   "outputs": [],
   "source": [
    "result_lvl_1_own.apply(lambda row: precision_at_k(row['own'], row['actual']), axis=1).mean()"
   ]
  },
  {
   "cell_type": "code",
   "execution_count": null,
   "metadata": {},
   "outputs": [],
   "source": [
    "result_lvl_1_own.head(50).apply(lambda row: precision_at_k(row['own'], row['actual']), axis=1).mean()"
   ]
  },
  {
   "cell_type": "code",
   "execution_count": null,
   "metadata": {},
   "outputs": [],
   "source": [
    "result_lvl_2_own.apply(lambda row: precision_at_k(row['own2'], row['actual']), axis=1).mean()"
   ]
  },
  {
   "cell_type": "code",
   "execution_count": null,
   "metadata": {},
   "outputs": [],
   "source": [
    "X_tr_p = X_train.copy()\n",
    "X_tr_p['preds'] = pd.Series(train_preds, index=X_tr_p.index)\n",
    "X_tr_p = X_tr_p[X_tr_p.preds != 0]\n",
    "lv2 = X_tr_p.groupby('user_id')['item_id'].apply(list).reset_index()\n",
    "lv2"
   ]
  },
  {
   "cell_type": "code",
   "execution_count": null,
   "metadata": {},
   "outputs": [],
   "source": [
    "result_lvl_2_preds = pd.merge(result_lvl_2, lv2, left_on='user_id', right_on='user_id', how='left')\n",
    "result_lvl_2_preds.replace(np.NaN, '[]', inplace=True)\n",
    "result_lvl_2_preds.head()"
   ]
  },
  {
   "cell_type": "code",
   "execution_count": null,
   "metadata": {},
   "outputs": [],
   "source": [
    "result_lvl_2_preds.apply(lambda row: precision_at_k(row['item_id'], row['actual']), axis=1).mean()"
   ]
  },
  {
   "cell_type": "code",
   "execution_count": null,
   "metadata": {},
   "outputs": [],
   "source": [
    "targets_val_lvl_2 = data_val_lvl_2[['user_id', 'item_id']].copy()\n",
    "targets_val_lvl_2['target'] = 1  # тут только покупки \n",
    "\n",
    "targets_val_lvl_2 = users_lvl_2.merge(targets_val_lvl_2, on=['user_id', 'item_id'], how='left')\n",
    "\n",
    "targets_val_lvl_2['target'].fillna(0, inplace= True)\n",
    "targets_val_lvl_2.drop('flag', axis=1, inplace=True)"
   ]
  },
  {
   "cell_type": "code",
   "execution_count": null,
   "metadata": {},
   "outputs": [],
   "source": [
    "targets_val_lvl_2 = targets_val_lvl_2.merge(item_features, on='item_id', how='left')\n",
    "targets_val_lvl_2 = targets_val_lvl_2.merge(user_features, on='user_id', how='left')"
   ]
  },
  {
   "cell_type": "code",
   "execution_count": null,
   "metadata": {},
   "outputs": [],
   "source": [
    "X_val = targets_val_lvl_2.drop('target', axis=1)\n",
    "y_val = targets_val_lvl_2[['target']]"
   ]
  },
  {
   "cell_type": "code",
   "execution_count": null,
   "metadata": {},
   "outputs": [],
   "source": [
    "v_cat_feats = X_val.columns[2:].tolist()\n",
    "X_val[v_cat_feats] = X_val[v_cat_feats].astype('category')"
   ]
  },
  {
   "cell_type": "code",
   "execution_count": null,
   "metadata": {},
   "outputs": [],
   "source": [
    "val_preds = lgb.predict(X_val)"
   ]
  },
  {
   "cell_type": "code",
   "execution_count": null,
   "metadata": {},
   "outputs": [],
   "source": [
    "X_val_p = X_val.copy()\n",
    "X_val_p['preds'] = pd.Series(val_preds, index=X_val_p.index)\n",
    "X_val_p = X_val_p[X_val_p.preds != 0]\n",
    "lv2_v = X_val_p.groupby('user_id')['item_id'].apply(list).reset_index()\n",
    "lv2_v"
   ]
  },
  {
   "cell_type": "code",
   "execution_count": null,
   "metadata": {},
   "outputs": [],
   "source": [
    "result_val_lvl_2_preds = pd.merge(result_lvl_2, lv2_v, left_on='user_id', right_on='user_id', how='left')\n",
    "result_val_lvl_2_preds.replace(np.NaN, '[]', inplace=True)\n",
    "result_val_lvl_2_preds.head()"
   ]
  },
  {
   "cell_type": "code",
   "execution_count": null,
   "metadata": {},
   "outputs": [],
   "source": [
    "result_val_lvl_2_preds.apply(lambda row: precision_at_k(row['item_id'], row['actual']), axis=1).mean()"
   ]
  },
  {
   "cell_type": "code",
   "execution_count": null,
   "metadata": {},
   "outputs": [],
   "source": []
  }
 ],
 "metadata": {
  "colab": {
   "name": "Копия блокнота \"hw_webinar_6.ipynb\"",
   "provenance": []
  },
  "kernelspec": {
   "display_name": "Python 3",
   "language": "python",
   "name": "python3"
  },
  "language_info": {
   "codemirror_mode": {
    "name": "ipython",
    "version": 3
   },
   "file_extension": ".py",
   "mimetype": "text/x-python",
   "name": "python",
   "nbconvert_exporter": "python",
   "pygments_lexer": "ipython3",
   "version": "3.8.5"
  }
 },
 "nbformat": 4,
 "nbformat_minor": 1
}
